{
 "cells": [
  {
   "cell_type": "markdown",
   "metadata": {
    "id": "0A9XJRkh3avA"
   },
   "source": [
    "# Data Science Coursework 1\n",
    "\n",
    "## George Hutchings  01357062"
   ]
  },
  {
   "cell_type": "code",
   "execution_count": 1,
   "metadata": {
    "executionInfo": {
     "elapsed": 1172,
     "status": "ok",
     "timestamp": 1610037717463,
     "user": {
      "displayName": "Felix Laumann",
      "photoUrl": "https://lh3.googleusercontent.com/a-/AOh14GhmStpe6E-gLWEG78qMXTCOTw1W_IBUPBbFJXZ7pw=s64",
      "userId": "13817614696536163905"
     },
     "user_tz": 0
    },
    "id": "GM-XTBpc3Udb"
   },
   "outputs": [],
   "source": [
    "# Import modules\n",
    "import numpy as np\n",
    "import matplotlib.pyplot as plt\n",
    "from tabulate import tabulate\n",
    "from mpl_toolkits.mplot3d import Axes3D\n",
    "from matplotlib import cm\n",
    "import pandas as pd\n",
    "import seaborn as sns"
   ]
  },
  {
   "cell_type": "markdown",
   "metadata": {},
   "source": [
    "## Task 1\n",
    "\n",
    "Let us first import our data."
   ]
  },
  {
   "cell_type": "code",
   "execution_count": 2,
   "metadata": {},
   "outputs": [],
   "source": [
    "# Import training and test data.\n",
    "\n",
    "# Training data.\n",
    "train_data = np.genfromtxt('regression_train.csv', delimiter=',')\n",
    "\n",
    "\n",
    "# Shuffle training data.\n",
    "np.random.seed(190)\n",
    "train_data = np.random.permutation(train_data)\n",
    "\n",
    "orig_train_data = np.array(train_data) # Original X data\n",
    "X_train = train_data[:,:-1]\n",
    "y_train = train_data[:,-1]\n",
    "\n",
    "#Test data.\n",
    "test_data = np.genfromtxt('regression_test.csv', delimiter=',')\n",
    "X_test = test_data[:,:-1]\n",
    "y_test = test_data[:,-1]"
   ]
  },
  {
   "cell_type": "markdown",
   "metadata": {},
   "source": [
    "#### Exploritory Data Analysis\n",
    "\n",
    "I initially looked at my data set to see if there were any unusual samples, I did not find anything that I thought needed removal. We were also told on Piazza (Question 74) that our dataset is already clean, hence I concluded that I need not clean the data. It is important  to notice that the first column of the data given is ones, and so it is already an augumented matrix, also note the presence of  `orig_train_data` this will remain unchanged throughout task 1, whereas we may modify `train_data`. \n",
    "\n",
    "To briefly analyse the data I calculated the means and standard deviations of the test and train sets:\n"
   ]
  },
  {
   "cell_type": "code",
   "execution_count": 3,
   "metadata": {},
   "outputs": [
    {
     "name": "stdout",
     "output_type": "stream",
     "text": [
      "  Mean of y train    Mean of y test    Variance of y train    Variance of y test\n",
      "-----------------  ----------------  ---------------------  --------------------\n",
      "          23.0186           20.6088                89.7854               58.5304\n"
     ]
    }
   ],
   "source": [
    "# EDA\n",
    "table = np.array([np.mean(y_train), np.mean(y_test), np.var(y_train), np.var(y_test)])\n",
    "table = table[None, :]\n",
    "headers=[\"Mean of y train\", \"Mean of y test\", \"Variance of y train\", \"Variance of y test\"]\n",
    "print(tabulate(table, headers))"
   ]
  },
  {
   "cell_type": "markdown",
   "metadata": {},
   "source": [
    "From the above table we can see that the train set has a higher mean (~$10\\%$) than the test set. As well as having a larger variance. We could therefore say that the trainng dataset has more outliers than the test set (it contains samples that are 'rare' and similar ones do not occur in the test set)."
   ]
  },
  {
   "cell_type": "markdown",
   "metadata": {},
   "source": [
    "### Task 1.1.1\n",
    "To consider linear regression we suppose our observed data, $(x_i, y_i), i = 1, \\dots, n$ can be written as \n",
    "$$\n",
    "y_i = x_i^T \\beta + \\varepsilon_i\n",
    "$$\n",
    "\n",
    "where $x_i \\in \\mathbb{R}^{p}$ are the variables (for us the rows of our $X$ matrix), $\\beta \\in \\mathbb{R}^{p}$ are the unknown parameters and $\\varepsilon_i$ is an error term.\n",
    "\n",
    "We shall assume for all $i = 1, 2, \\dots, n$, the $\\varepsilon_i$ are independently identically distributed as:\n",
    "$$\n",
    "\\varepsilon_i \\sim {\\mathcal {N}} \\left(0,\\sigma ^{2} \\right)\n",
    "$$\n",
    "For some $ 0 < \\sigma \\in \\mathbb{R}$\n",
    "\n",
    "We aim to find the $\\beta$ to maximise the likelihood function, that is:\n",
    "$$\\rm{argmax}_{\\beta} \\prod_{i=0}^n \\mathcal {L}(\\beta \\mid x_i, y_i)$$\n",
    "where $\\mathcal {L}(\\beta \\mid x_i, y_i)$ is the likelihood of a single observation. We showed in lectures that that this is the least squares solution to $X\\beta = y$:\n",
    "$$\n",
    "\\beta_{ml} = \\left(X^TX \\right)^{-1}X^Ty\n",
    "$$ \n",
    "\n",
    "I shall apply this to the train data in `max_lik_estimate()`, since the inputs of the training data already have a column of ones, we need not augument $X$, and intercept of the data will be accounted for in $\\beta_{ml}^{(0)}$.\n"
   ]
  },
  {
   "cell_type": "code",
   "execution_count": 4,
   "metadata": {},
   "outputs": [
    {
     "name": "stdout",
     "output_type": "stream",
     "text": [
      "Beta_ml = [ 2.25182581e+01 -6.17585676e-01  1.01692990e+03 -4.35196787e+04\n",
      "  4.35195080e+04 -1.31413051e+09  9.76765983e+02 -1.64635500e-01\n",
      "  1.51837665e+03 -9.73639676e+02 -4.94077967e-02 -5.14074743e+03\n",
      "  7.42847683e-01 -3.71419840e+00  1.31413051e+09  5.13901319e+03\n",
      " -1.01579966e+03 -1.52187136e+03]\n"
     ]
    }
   ],
   "source": [
    "def max_lik_estimate(X, y):\n",
    "    '''\n",
    "    Finds the maximum likelihood estimate given inputs and outputs.\n",
    "\n",
    "    Parameters\n",
    "    ----------\n",
    "    X : NxD 2D numpy array \n",
    "        Contains training inputs.\n",
    "    y : Length N 1D numpy array \n",
    "        vector of training targets/observations.\n",
    "\n",
    "    Returns\n",
    "    -------\n",
    "    beta_ml : Length D 1D numpy array\n",
    "         Maximum likelihood parameters.\n",
    "\n",
    "    '''\n",
    "    \n",
    "    beta_ml = np.linalg.solve(X.T@X, X.T@y)\n",
    "    return beta_ml\n",
    "\n",
    "\n",
    "\n",
    "# Get maximum likelihood estimate.\n",
    "beta_ml = max_lik_estimate(X_train,y_train)\n",
    "\n",
    "print('Beta_ml =', beta_ml)"
   ]
  },
  {
   "cell_type": "markdown",
   "metadata": {},
   "source": [
    "We can see from the above that a large number of entries of $\\beta_{ml}$ are very large with $\\beta_{ml}^{(5, 14)}$ are by far the largest (of magnitude), both of the order of $10^{9}$. The naive assumption from this would be to believe that the corresponding features are the 'most important' to the model, although potential colearity of predictors means this is an unwise assumption. These large magnitudes are often not desirable and can be resolved be penalising large entries of $\\beta$ by using Ridge regression, we will explore this later. I will now find the in and out of sample mean squared error of the model, whch can be represented by:\n",
    "$$\n",
    "\\hat{y} = X\\beta_{ml} \n",
    "$$\n",
    "to do this I will create a function, `MSE()` to calculate the mean squared error. And calculate the in sample mean squared error."
   ]
  },
  {
   "cell_type": "code",
   "execution_count": 5,
   "metadata": {},
   "outputs": [
    {
     "name": "stdout",
     "output_type": "stream",
     "text": [
      "In sample MSE = 24.37854815595173\n"
     ]
    }
   ],
   "source": [
    "def MSE(y_pred, y_true):\n",
    "    '''\n",
    "    Computes the mean squared error.\n",
    "\n",
    "    Parameters\n",
    "    ----------\n",
    "    y_pred : Length N 1D numpy array\n",
    "        Estimated target values.\n",
    "    y_true : Length N 1D numpy array\n",
    "        Actual target values.\n",
    "\n",
    "    Returns\n",
    "    -------\n",
    "    MSE : Float\n",
    "        Mean squared error.\n",
    "\n",
    "    '''\n",
    "    mse = np.mean((y_true - y_pred)**2)\n",
    "    return mse\n",
    "    \n",
    "\n",
    "\n",
    "print('In sample MSE =', MSE(X_train@beta_ml, y_train))"
   ]
  },
  {
   "cell_type": "markdown",
   "metadata": {},
   "source": [
    "### Task 1.1.2\n",
    "Below I use the `MSE()` function to calculate the out of sample mean squared error, I also calculate the residuals for later use."
   ]
  },
  {
   "cell_type": "code",
   "execution_count": 6,
   "metadata": {},
   "outputs": [
    {
     "name": "stdout",
     "output_type": "stream",
     "text": [
      "Out of sample MSE = 19.546191812082967\n"
     ]
    }
   ],
   "source": [
    "print('Out of sample MSE =', MSE(X_test@beta_ml, y_test))\n",
    "# For residual plot\n",
    "e_ml = y_test - X_test@beta_ml"
   ]
  },
  {
   "cell_type": "markdown",
   "metadata": {},
   "source": [
    "We can see here, that surprisingly the in sample mean squared error is larger than the out of samples. This is surprising since our model was trained on the 'in sample' data, and so we would expect that it would have a smaller out of sample MSE than out of sample MSE. \n",
    "\n",
    "I hypothesise that this is because we may have some features that are sparse, that is there exists some rare samples that occasionally occur inherently in the data (ie. they are not necessarily errors), these 'outliers', are more likely to be present in the training set than the test set simply due to the sizes of the sets. These outliers, due to their sparsity, have minimal effect on the $\\beta$ produced by training the model, but cause a larger in sample MSE, than if they were omitted. If the training set contains none of these such outliers then its MSE (the out of sample MSE), will be lower.\n",
    "\n",
    "The smaller out of sample MSE implies that our model generalises well, and is not overfitted."
   ]
  },
  {
   "cell_type": "markdown",
   "metadata": {},
   "source": [
    "### Task 1.2.1\n",
    "\n",
    "I will now perform ridge regression with the data, that is to find the solution to \n",
    "$$\n",
    "\\rm{argmin}_{\\beta} \\left( \\lVert y - X \\beta \\rVert - \\lambda \\lVert \\beta \\rVert^{2} \\right)\n",
    "$$\n",
    "for some fixed penality parameter $0 < \\lambda  \\in \\mathbb{R}$.\n",
    "\n",
    "To perform ridge regression we need to standardise our input data to ensure that the penalities are applied equally. I do this below and store the mean and standard deviation of the training data for later use on the test data. I also centre the input data so that the the intercept term $\\beta^{(0)}$ becomes 0 and therefore we can drop the column of ones in our $X$ data. This also means no penalty is applied to the intercept. \n",
    "\n",
    "This is done below, with the use of a function `standardise()` that standardises the data."
   ]
  },
  {
   "cell_type": "code",
   "execution_count": 7,
   "metadata": {},
   "outputs": [],
   "source": [
    "def standardise(X, verbose=False):\n",
    "    '''\n",
    "    Standardise the columns of X, optionally returning the mean and standard \n",
    "    deviation.\n",
    "\n",
    "    Parameters\n",
    "    ----------\n",
    "    X : NxD 2D numpy array \n",
    "        Array to be standardised.\n",
    "    verbose : bool, optional\n",
    "        If True will return the mean and standard deviation of the columns of X.\n",
    "        The default is False.\n",
    "\n",
    "    Returns\n",
    "    -------\n",
    "    X_std : NxD 2D numpy array \n",
    "        X with its columns standardised.\n",
    "    mu : N length 1D numpy array, optional (will be returned if verbose=True)\n",
    "        mean of the columns of X.\n",
    "    sigma : N length 1D numpy array, optional (will be returned if verbose=True)\n",
    "        standard deviation of the columns of X\n",
    "\n",
    "    '''\n",
    "    mu = np.mean(X, 0)\n",
    "    sigma = np.std(X, 0)\n",
    "    X_std = (X - mu) / sigma\n",
    "    if verbose is True:\n",
    "        return X_std, mu, sigma\n",
    "    else:\n",
    "        return X_std\n",
    "\n",
    "\n",
    "# Standardising X data (Omit the first column - ones)\n",
    "train_data = train_data[:, 1:]\n",
    "train_data[:, :-1], mu, sigma = standardise(train_data[:, :-1], verbose=True)\n",
    "X_train = train_data[:, :-1] # Standardise\n",
    "beta_0 = np.mean(y_train)\n",
    "train_data[:, -1] -= beta_0 # Centring y\n",
    "y_train = train_data[:, -1] \n",
    "X_test = (X_test[:, 1:]-mu) / sigma # Standardise\n",
    "\n",
    "# Note I have not centred y_test since I would like to see if I can predict \n",
    "# the raw un-modified y_test (I will simply add mu to the prediction)."
   ]
  },
  {
   "cell_type": "markdown",
   "metadata": {},
   "source": [
    "From lectures we calculated the corresponding $\\beta$ to minimise the ridge loss function to be:\n",
    "$$\n",
    "\\hat{\\beta}_{ridge} = \\left( X^TX + \\lambda I \\right)^{-1}X^Ty\n",
    "$$ \n",
    "This is implemented in the below function `ridge_estimate()`."
   ]
  },
  {
   "cell_type": "code",
   "execution_count": 8,
   "metadata": {},
   "outputs": [],
   "source": [
    "def ridge_estimate(X, y, penalty):\n",
    "    '''\n",
    "    Calculates the maximum likelihood estimate of a ridged system with penalty\n",
    "    'penalty'.\n",
    "\n",
    "    Parameters\n",
    "    ----------\n",
    "    X : NxD 2D numpy array \n",
    "        Contains training inputs, note that unlike in the exercise's function\n",
    "        this should already be the augmented array, that is with the first \n",
    "        column of ones.\n",
    "    y : Length N 1D numpy array \n",
    "        Vector of training targets/observations.\n",
    "    penalty : Float\n",
    "        Penality (lambda) to be applied.\n",
    "\n",
    "    Returns\n",
    "    -------\n",
    "    beta_ridge : Length D 1D numpy array\n",
    "         Maximum likelihood parameters of ridged system.\n",
    "\n",
    "    '''\n",
    "    \n",
    "    A = X.T @ X\n",
    "    np.fill_diagonal(A, np.diag(A) + penalty)\n",
    "    beta_ridge = np.linalg.solve(A, X.T @ y) \n",
    "    return beta_ridge"
   ]
  },
  {
   "cell_type": "markdown",
   "metadata": {},
   "source": [
    "But which $\\lambda$ should be used?\n",
    "\n",
    "I will now perform 5 fold cross validation on the training data, to find the optimal $\\lambda$. To do this I first define some functions, which create the folds (note I shuffled my data to begin with so it is not done here), and to create the train and validation sets from these folds. "
   ]
  },
  {
   "cell_type": "code",
   "execution_count": 9,
   "metadata": {},
   "outputs": [],
   "source": [
    "def cross_val_split(data, num_folds=5):\n",
    "    '''\n",
    "    Splits data(NxD) row wise into 'num_folds' of roughly equal size, doesnt \n",
    "    shuffle it.\n",
    "\n",
    "    Parameters\n",
    "    ----------\n",
    "    data : NxD 2D numpy array\n",
    "        Array to be split.\n",
    "    num_folds : Integer, optional\n",
    "        Number of folds to split the data into. The default is 5.\n",
    "\n",
    "    Returns\n",
    "    -------\n",
    "    folds : List of length num_folds\n",
    "        Each element is a numpy array, a fold.\n",
    "\n",
    "    '''\n",
    "    fold_size = len(data) // num_folds\n",
    "    folds = []\n",
    "    for k in range(num_folds):\n",
    "        folds.append(data[k*fold_size:(k+1)*fold_size, :])\n",
    "    return folds\n",
    "\n",
    "\n",
    "\n",
    "\n",
    "def cross_val_train_test(folds, index):\n",
    "    '''\n",
    "    Given a list of folds creates validation set of folds[index] and the \n",
    "    remaining folds form the train set.\n",
    "\n",
    "    Parameters\n",
    "    ----------\n",
    "    folds : list of M, Nx(D+1) numpy arrays \n",
    "        Each fold (used in cross validation).\n",
    "    index : Integer less than M\n",
    "        Index of the fold to be the validation set.\n",
    "\n",
    "    Returns\n",
    "    -------\n",
    "    X_train : N(M-1)xD numpy array\n",
    "        Set composed of the all arrays of 'folds' with the exception of folds[index] \n",
    "        stacked on top of each other with the last column removed.\n",
    "    y_train : N(M-1) length 1D numpy array\n",
    "        The last column as mentioned in X_train.\n",
    "    X_val : NxD numpy array\n",
    "        The first D columns of folds[index].\n",
    "    y_val : N length 1D numpy array\n",
    "        The last column as mentioned in X_val.\n",
    "\n",
    "    '''\n",
    "    i = index\n",
    "    # define the training set\n",
    "    train_set = np.delete(np.asarray(folds).reshape(len(folds), folds[0].shape[0], folds[0].shape[1]), i, axis=0)\n",
    "    train_folds = train_set.reshape(len(train_set)*train_set[0].shape[0], train_set[0].shape[1])\n",
    "    X_train = train_folds[:, :-1]  \n",
    "    y_train = train_folds[:, -1]\n",
    "\n",
    "    # define the validation set\n",
    "    val_fold = folds[i] \n",
    "    X_val = val_fold[:, :-1] \n",
    "    y_val = val_fold[:, -1]\n",
    "    return X_train, y_train, X_val, y_val"
   ]
  },
  {
   "cell_type": "markdown",
   "metadata": {},
   "source": [
    "I then perform the cross validation on multiple linearly spaced $\\lambda \\in (0, 50]$, I store the validation mean squared error for each $\\lambda$ and for each fold in an array, `errorv`. I also store the folds used so we can use the same folds without having to recalculate them later (they are stored in the lists `train_sets`, `test_sets`)."
   ]
  },
  {
   "cell_type": "code",
   "execution_count": 10,
   "metadata": {},
   "outputs": [],
   "source": [
    "# Initialise vector of lambdas (exculuding zero since this is just normal least squares).\n",
    "n = 1000 \n",
    "lam = np.linspace(0, 50, n+1)[1:]\n",
    "\n",
    "# Initialise  array to contain the MSE of the lambdas for each fold\n",
    "errorv = np.empty((5,n))\n",
    "\n",
    "folds = cross_val_split(train_data, 5)\n",
    "\n",
    "# Storing each train and validation set for later use (without having to recalculate them)\n",
    "train_sets = []\n",
    "val_sets = []\n",
    "\n",
    "# Perforing 5 fold cross validaion\n",
    "for index in range(5):\n",
    "    cv_X_train, cv_y_train, cv_X_val, cv_y_val = cross_val_train_test(folds, index)\n",
    "    train_sets += [cv_X_train, cv_y_train]\n",
    "    val_sets += [cv_X_val, cv_y_val]\n",
    "    for i in range(n):\n",
    "        beta_ridge = ridge_estimate(cv_X_train, cv_y_train, lam[i])\n",
    "        val_score = MSE(cv_X_val@beta_ridge, cv_y_val)\n",
    "        errorv[index, i] = val_score"
   ]
  },
  {
   "cell_type": "markdown",
   "metadata": {},
   "source": [
    "I now find the $\\hat{\\lambda}_i$, that is the $\\lambda$ that minimises the mean squared error for each fold against its corresponding validation set. This can be seen visually by looking at a graph and picking the lambda that corresponds to its minimum. Doing this graphically also allows you to get a general idea of what  the shape of the corresponding curve is, which we would expect to be a u shaped curve due to the bias - variance trade off."
   ]
  },
  {
   "cell_type": "code",
   "execution_count": 11,
   "metadata": {},
   "outputs": [
    {
     "data": {
      "image/png": "[encoded data removed]",
      "text/plain": [
       "<Figure size 432x288 with 1 Axes>"
      ]
     },
     "metadata": {
      "needs_background": "light"
     },
     "output_type": "display_data"
    }
   ],
   "source": [
    "# Index of the lambda which minimses the MSE of each fold    \n",
    "index = np.argmin(errorv, axis=1) \n",
    "lamhat = lam[index]\n",
    "\n",
    "# Plot\n",
    "i=0 # Fold to plot (let us look at the first (i=0))\n",
    "plt.figure()\n",
    "plt.plot(lam, errorv[i, :], markersize=2)\n",
    "plt.plot(lamhat[i], errorv[i, index[i]], 'x')\n",
    "plt.annotate(r\"$\\hat{\\lambda}$\", (lamhat[i], errorv[0, index[i]]))\n",
    "plt.xlabel(r\"$\\lambda$\")\n",
    "plt.ylabel('MSE')\n",
    "plt.title(r'MSE vs $\\lambda$ (one fold)')\n",
    "plt.show()"
   ]
  },
  {
   "cell_type": "markdown",
   "metadata": {},
   "source": [
    "We can see that the plod indeed achieves a clear minimum (this is presented in the table below). And hence we can conclude that our cross validation has been implemented correctly. "
   ]
  },
  {
   "cell_type": "code",
   "execution_count": 12,
   "metadata": {},
   "outputs": [
    {
     "name": "stdout",
     "output_type": "stream",
     "text": [
      "  Val Fold #    Lambda hat    Val set MSE    In sample MSE    Out sample MSE\n",
      "------------  ------------  -------------  ---------------  ----------------\n",
      "           1         15.4         24.7264          24.8499           19.2202\n",
      "           2         27.45        21.909           24.9373           19.1825\n",
      "           3         28.1         19.4056          24.943            19.1817\n",
      "           4          2.1         29.1366          24.8054           19.3325\n",
      "           5         50           37.5294          25.1678           19.198\n"
     ]
    }
   ],
   "source": [
    "# Analyse the optimal lambda for each fold\n",
    "val_mse = errorv[np.arange(5), index] # Its valdation set MSE\n",
    "in_sample_mse = np.empty(5)\n",
    "out_sample_mse = np.empty(5)\n",
    "for i in range(5):\n",
    "    beta = ridge_estimate(X_train, y_train, lamhat[i])\n",
    "    in_sample_mse[i] = MSE(orig_train_data[:, 1:-1]@beta+beta_0 , orig_train_data[:, -1])\n",
    "    out_sample_mse[i] = MSE(X_test@beta+beta_0, y_test)\n",
    "\n",
    "# Table containg information on each fold \n",
    "table = np.column_stack((np.arange(1, 6), lamhat, val_mse, in_sample_mse, out_sample_mse))\n",
    "headers=[\"Val Fold #\", \"Lambda hat\", \"Val set MSE\", \"In sample MSE\", \"Out sample MSE\"]\n",
    "print(tabulate(table, headers))"
   ]
  },
  {
   "cell_type": "markdown",
   "metadata": {},
   "source": [
    "This table shows us the various optimal lambdas, and errors for each fold, let us call the optimal lambda for fold $i$, $\\hat{\\lambda}_i$. We can see that there is a very high variation in the $\\hat{\\lambda}_{i}$ and quite often the optimal is either the smallest or largest of the $\\lambda$'s tested. This is likely due to the variation of the samples which each folds provide. To alleviate this we can instead try and find the $\\hat{\\lambda}$ that minimises the average MSE for each fold, that is:\n",
    "$$\n",
    "\\hat{\\lambda} = \\rm{argmin}_{\\lambda}\\frac{1}{T}\\sum_{t=1}^{T}MSE_t(\\lambda) = \\rm{argmin}_{\\lambda}<MSE(\\lambda)>\n",
    "$$\n",
    "\n",
    "This will hopefully help alleviate the issue with a large variance of the $\\hat{\\lambda}_i$ since we are taking the mean of the mean squared error over each fold. \n",
    "\n",
    "\n",
    "### Task 1.2.2\n",
    "\n",
    "I have calculated $\\hat{\\lambda}$ as well as the $\\beta_{ridge}$ that corresponds to it (including $\\beta_{ridge}^{(0)}$, the mean of the test data).\n",
    "\n",
    "I have plotted the curve of $\\lambda$ and $<MSE(\\lambda)>$, as well as a table of the results containing its various errors."
   ]
  },
  {
   "cell_type": "code",
   "execution_count": 13,
   "metadata": {},
   "outputs": [
    {
     "name": "stdout",
     "output_type": "stream",
     "text": [
      "beta ridge= [23.01856436 -0.66365986  0.51264254 -0.12557131 -0.12554188 -0.70377343\n",
      "  1.65509753 -0.2145703  -1.52332419  1.65404238 -0.18189688 -0.88864627\n",
      "  0.78772697 -3.17154631 -0.70377343 -0.88862171  0.51264466 -1.52338647]\n",
      "  Lambda hat    CV <MSE>    In sample MSE    Out sample MSE\n",
      "------------  ----------  ---------------  ----------------\n",
      "        27.9     26.6408          24.9412            19.497\n"
     ]
    },
    {
     "data": {
      "image/png": "[encoded data removed]",
      "text/plain": [
       "<Figure size 432x288 with 1 Axes>"
      ]
     },
     "metadata": {
      "needs_background": "light"
     },
     "output_type": "display_data"
    }
   ],
   "source": [
    "errorv = np.mean(errorv, axis=0) # Find the Avg MSE\n",
    "index = np.argmin(errorv) # Find the position of its maximum\n",
    "lamhat = lam[index] # Corresponding parameter\n",
    "\n",
    "# Plot\n",
    "plt.figure()\n",
    "plt.plot(lam, errorv, markersize=2)\n",
    "plt.plot(lamhat, errorv[index], 'x')\n",
    "plt.annotate(r\"$\\hat{\\lambda}$\", (lamhat, errorv[index]))\n",
    "plt.xlabel(r\"$\\lambda$\")\n",
    "plt.ylabel('MSE')\n",
    "plt.title(r'$<MSE>$ vs $\\lambda$, averageing across all folds');\n",
    "\n",
    "\n",
    "beta_ridge = ridge_estimate(train_data[:, :-1], train_data[:, -1], lamhat)\n",
    "beta_ridge = np.concatenate(([beta_0], beta_ridge)) # With beta_0\n",
    "print('beta ridge=', beta_ridge)\n",
    "\n",
    "in_sample_mse = MSE(orig_train_data[:, :-1]@beta_ridge, orig_train_data[:, -1])\n",
    "out_sample_mse = MSE(test_data[:, :-1]@beta_ridge, test_data[:, -1])\n",
    "table = np.array([lamhat, errorv[index], in_sample_mse, out_sample_mse])\n",
    "headers=[\"Lambda hat\", \"CV <MSE>\", \"In sample MSE\", \"Out sample MSE\"]\n",
    "table = table[None, :]\n",
    "print(tabulate(table, headers))\n",
    "\n",
    "e_ridge = test_data[:, -1] - test_data[:, :-1]@beta_ridge; # storing residuals for later use"
   ]
  },
  {
   "cell_type": "markdown",
   "metadata": {},
   "source": [
    "We can see that our plot does indeed produce the expected shape curve. And we obtain a $\\beta_{(ridge)}$ which has coefficients that are far smaller than those of $\\beta_{ml}$, again we would expect this due to the introduction of the penalty, since ridge helps reduce the issue of colinear predictors which occurs with linear regression.\n",
    "\n",
    "Let us compare the mean squared errors between ridge and the maximum likelihood one:\n",
    "+ **In sample mean squared error**, we can see that the in sample MSE for ridge is very slightly greater than that of least squares, this is what we would ideally expect. Since by construction least squares will minimise the in squared mean squared error, and ideally ridge will not deviate too far from this. \n",
    "+ **Out of sample mean squared error**, we can see that the out of sample MSE for ridge is very slightly smaller than that of least squares, this is good since the model better generalises to other data even if it is a minute improvement.\n",
    "\n",
    "Similarly the in sample mean squared error is greater than the out of sample mean squared error. This is likely due to the same reasons as why it is so with linear regression, mentioned as above.\n",
    "\n",
    "We should also notice that the magnitudes of the entries of $\\beta_{ridge}$ have been massively reduced due to the penality, and are more evenly distributed. Whereas with $\\beta_{ml}$ we had $\\beta_{ml}^{(5, 14)}$ being significantly larger than any other parameters. With ridge they are of similar size, however $\\beta_{ridge}^{(13)}$ is the largest leading us to believe the corresponding feature is the most important to the model, this is a more sensible assumption due to the ridge penality helping to alleviate collinearity issues."
   ]
  },
  {
   "cell_type": "markdown",
   "metadata": {},
   "source": [
    "### Task 1.3.1\n",
    "The Knn algorithm begins by calculating the distance between two sets of samples $x_i, x_j$. I have implemented this in the function `euclidian_distance()` below. Which calculates the distance from a point $q$ to all rows in a given matrix ($p$).\n"
   ]
  },
  {
   "cell_type": "code",
   "execution_count": 14,
   "metadata": {},
   "outputs": [],
   "source": [
    "def euclidian_distance(p, q):\n",
    "    '''\n",
    "    Computes the euclidean distancee from a each row in a matrix to a vector.\n",
    "    \n",
    "\n",
    "    Parameters\n",
    "    ----------\n",
    "    p : (N,D) numpy array\n",
    "        Matrix to compute the distance against each of its rows.\n",
    "    q : (D,) numpy vector \n",
    "        vector to compute the distance against.\n",
    "\n",
    "    Returns\n",
    "    -------\n",
    "    distance : (N,) numpy array\n",
    "        Array of euclidean distances from p to each row of q.\n",
    "\n",
    "    '''\n",
    "\n",
    "    distance = np.linalg.norm(p-q, ord=2, axis=1)\n",
    "    return distance\n",
    "\n",
    "def k_neighbours(X_test, X_train, k=5, return_distance=False):\n",
    "    '''\n",
    "    Returns the indicies of the k nearest neighbours of rows of X_test to rows of X_train.\n",
    "\n",
    "    Parameters\n",
    "    ----------\n",
    "    X_test : (N_1,D) numpy array\n",
    "    X_train : (N_2,D) numpy array\n",
    "    k : integer, optional\n",
    "        The number of neighbours to find. The default is 5.\n",
    "    return_distance : bool, optional\n",
    "        Whether or not to return the distances. The default is False.\n",
    "\n",
    "    Returns\n",
    "    -------\n",
    "    neigh_ind\n",
    "        indicies of the nearest neighbours. Distances are also returned if \n",
    "        return_distance is True.\n",
    "\n",
    "    '''\n",
    "    dist = []\n",
    "    neigh_ind = []\n",
    "  \n",
    "    # compute distance from each point x_test in X_test to all points in X_train\n",
    "    point_dist = [euclidian_distance(x_test, X_train) for x_test in X_test]\n",
    "\n",
    "    # determine which k training points are closest to each test point\n",
    "    for row in point_dist:\n",
    "        enum_neigh = enumerate(row)\n",
    "        sorted_neigh = sorted(enum_neigh, key=lambda x: x[1])[:k]\n",
    "\n",
    "        ind_list = [tup[0] for tup in sorted_neigh]\n",
    "        dist_list = [tup[1] for tup in sorted_neigh]\n",
    "\n",
    "        dist.append(dist_list)\n",
    "        neigh_ind.append(ind_list)\n",
    "  \n",
    "    # return distances together with indices of k nearest neighbouts\n",
    "    if return_distance:\n",
    "        dist = np.array(dist)\n",
    "        neigh_ind = np.array(neigh_ind)\n",
    "        return dist, neigh_ind\n",
    "    \n",
    "    neigh_ind = np.array(neigh_ind)\n",
    "    return neigh_ind\n",
    "\n",
    "\n",
    "\n",
    "\n"
   ]
  },
  {
   "cell_type": "markdown",
   "metadata": {},
   "source": [
    "I then define `reg_predict()` to predict results from a train set given some test inputs, (and a k), as well as wrapper function `score()` that does this and finds the accuracy."
   ]
  },
  {
   "cell_type": "code",
   "execution_count": 15,
   "metadata": {},
   "outputs": [],
   "source": [
    "def reg_predict(X_test, X_train, y_train, k=5):\n",
    "    '''\n",
    "    Prededicts the outcome of X_test using X_train, y_train and the k nearest neighbours.\n",
    "\n",
    "    Parameters\n",
    "    ----------\n",
    "    X_test : (N_1,D) numpy array\n",
    "    X_train : (N_2,D) numpy array\n",
    "    y_train : (N_2,) numpy array\n",
    "    k : integer, optional\n",
    "        the number of neighbours to compute against. The default is 5.\n",
    "\n",
    "    Returns\n",
    "    -------\n",
    "    y_pred : (N_1,) numpy array\n",
    "        predicted outcome of X_test.\n",
    "\n",
    "    '''\n",
    "    # each of the k neighbours contributes equally to the classification of any data point in X_test  \n",
    "    neighbours = k_neighbours(X_test, X_train, k=k)\n",
    "    # compute mean over neighbours labels (hint: use python's list comprehension)\n",
    "    y_pred = np.array([np.mean(y_train[neighbour]) for neighbour in neighbours]) \n",
    "\n",
    "    return y_pred\n",
    "\n",
    "def score(X_test, y_test, X_train, y_train, k=5):\n",
    "    '''\n",
    "    Calcualtes the mean - squared error of the prediced outputs of X_test, which \n",
    "    have been predicted using the k nearest neighbours algorithm with k \n",
    "    neighbours, and training data X_train and y_train.  \n",
    "\n",
    "    Parameters\n",
    "    ----------\n",
    "    X_test : (N_1,D) numpy array\n",
    "    y_train : (N_1,) numpy array\n",
    "    X_train : (N_2,D) numpy array\n",
    "    y_train : (N_2,) numpy array\n",
    "    k : integer, optional\n",
    "        the number of neighbours to compute against. The default is 5.\n",
    "\n",
    "    Returns\n",
    "    -------\n",
    "    mse : float\n",
    "        Mean squared error of the predicition.\n",
    "\n",
    "    '''\n",
    "    y_pred = reg_predict(X_test, X_train, y_train, k=k)\n",
    "    mse = MSE(y_pred, y_test)\n",
    "    return mse"
   ]
  },
  {
   "cell_type": "markdown",
   "metadata": {},
   "source": [
    "I then implemented this with cross validation on the same folds as used previously. While doing this I aimed to look at the distribution of the errors. I plotted the errors on histograms for each $k$ ranging from 1 to 9, for the first fold. As well as the mean and standard deviations for each  $k$ in a table."
   ]
  },
  {
   "cell_type": "code",
   "execution_count": 16,
   "metadata": {},
   "outputs": [
    {
     "data": {
      "image/png": "[encoded data removed]",
      "text/plain": [
       "<Figure size 432x288 with 9 Axes>"
      ]
     },
     "metadata": {
      "needs_background": "light"
     },
     "output_type": "display_data"
    },
    {
     "name": "stdout",
     "output_type": "stream",
     "text": [
      "  k        mean    variance\n",
      "---  ----------  ----------\n",
      "  1   0.10625       18.8406\n",
      "  2  -0.123125      11.4755\n",
      "  3   0.0583333     15.0284\n",
      "  4   0.06625       16.9614\n",
      "  5   0.1395        18.6276\n",
      "  6   0.137083      18.3389\n",
      "  7   0.117857      17.8542\n",
      "  8   0.132188      17.6818\n",
      "  9   0.224722      18.3998\n"
     ]
    }
   ],
   "source": [
    "n = 9 # Number of k's to analyse.\n",
    "k = np.arange(1, n+1)\n",
    "errorv = np.empty((5,n))\n",
    "\n",
    "y_train = orig_train_data[:, -1]\n",
    "\n",
    "fold_i=0 # Fold to plot (let us look at the first (i=0))\n",
    "\n",
    "# Initialise vectors for means and std deviations\n",
    "mu = np.empty(n)\n",
    "sigma = np.empty(n)\n",
    "x = np.arange(-15, 15, .1)\n",
    "\n",
    "# Initialise plot\n",
    "fig, ax = plt.subplots(3, 3)\n",
    "fig.suptitle(\"Histograms of errors for the first fold for corresponding k\", fontsize=12)\n",
    "row =-1\n",
    "\n",
    "\n",
    "\n",
    "# 5 Fold cross validation (also plotting the distribution of errors from the first fold).\n",
    "for index in range(5):\n",
    "    twoindex = 2*index\n",
    "    twoindexplusone = twoindex + 1\n",
    "    # Use the folds previously used (and saved), note these have been standardised, \n",
    "    # we uncentre y to allow for direct predictions.\n",
    "    cv_X_train, cv_X_val = train_sets[twoindex], val_sets[twoindex]\n",
    "    cv_y_train, cv_y_val = train_sets[twoindexplusone] + beta_0, val_sets[twoindexplusone] + beta_0\n",
    "    for i in range(n):\n",
    "        y_pred = reg_predict(cv_X_val, cv_X_train, cv_y_train, k=k[i])\n",
    "        errorv[index, i] = MSE(y_pred,  cv_y_val) # Recording MSE\n",
    "        if index == fold_i: # Plot the first fold \n",
    "            col = i%3\n",
    "            if col == 0:\n",
    "                row += 1\n",
    "            e_knn = cv_y_val - y_pred\n",
    "            mu[i] = np.mean(e_knn)\n",
    "            sigma[i] = np.var(e_knn)\n",
    "            ax[row, col].hist(e_knn, bins = 20, label=k[i])\n",
    "            ax[row, col].get_xaxis().set_ticks([0]) # Showing 0 \n",
    "            ax[row, col].get_yaxis().set_ticks([])\n",
    "            ax[row, col].title.set_text(\"$k = $%d\" % k[i]) \n",
    "\n",
    "\n",
    "plt.xlim([-15, 15]) # Set x axis the same for easier comparison\n",
    "plt.tight_layout()\n",
    "plt.show()\n",
    "                  \n",
    "        \n",
    "table = np.column_stack((k, mu, sigma))\n",
    "headers=[\"k\", \"mean\", \"variance\"]\n",
    "print(tabulate(table, headers))"
   ]
  },
  {
   "cell_type": "markdown",
   "metadata": {},
   "source": [
    "As we can see, for each $k$, the histograms look roughly bell shaped, with a centre at 0. This is what we would expect from our assumption that each error is: $ \\varepsilon_i \\sim {\\mathcal {N}} \\left(0,\\sigma ^{2} \\right)$.\n",
    "\n",
    "Similarly looking at the means for each $k$ they are all approximately 0, again substantiating our above claim about the errors. Looking at the variance of the errors are approximately the same (there are slight differences but this is likely due to the difference in the folds). Hence we can see that our above assumption of the distribution of the residuals looks probable with $\\sigma^2 \\approx 17$.\n",
    "\n",
    "\n",
    "I below, as we have done with ridge regression and $\\lambda$, plot the mean squared error against the optimal $k$ for the first fold, and then show the these results in a table. \n"
   ]
  },
  {
   "cell_type": "code",
   "execution_count": 17,
   "metadata": {},
   "outputs": [
    {
     "name": "stdout",
     "output_type": "stream",
     "text": [
      "  Val Fold #    k hat    Val set MSE    In sample MSE    Out sample MSE\n",
      "------------  -------  -------------  ---------------  ----------------\n",
      "           1        2       11.4907           3.35751           13.7636\n",
      "           2        3       13.1393           4.87282           12.281\n",
      "           3        3        9.42524          4.87282           12.281\n",
      "           4        2        7.70803          3.35751           13.7636\n",
      "           5        3       17.0004           4.87282           12.281\n"
     ]
    },
    {
     "data": {
      "image/png": "[encoded data removed]",
      "text/plain": [
       "<Figure size 432x288 with 1 Axes>"
      ]
     },
     "metadata": {
      "needs_background": "light"
     },
     "output_type": "display_data"
    }
   ],
   "source": [
    "# Index of the k which minimses the MSE of each fold    \n",
    "index = np.argmin(errorv, axis=1) \n",
    "khat = k[index]\n",
    "\n",
    "\n",
    "\n",
    "# Plot k vs MSE for one fold (let us do first (fold_i=0))\n",
    "plt.figure()\n",
    "plt.plot(k, errorv[fold_i, :], markersize=2)\n",
    "plt.plot(khat[fold_i], errorv[fold_i, index[fold_i]], 'x')\n",
    "plt.annotate(r\"$\\hat{k}$\", (khat[fold_i], errorv[0, index[fold_i]]))\n",
    "plt.xlabel(r\"$k$\")\n",
    "plt.ylabel('MSE')\n",
    "plt.title(r'MSE vs $k$ (one fold)');\n",
    "\n",
    "\n",
    "# Calculating the optimal k to minimise the average MSE (<MSE>)over the 5 folds\n",
    "val_mse = errorv[np.arange(5), index]\n",
    "in_sample_mse = np.empty(5)\n",
    "out_sample_mse = np.empty(5)\n",
    "for i in range(5):\n",
    "    in_sample_mse[i] = score(orig_train_data[:,1:-1], orig_train_data[:,-1], X_train, y_train, k=khat[i])\n",
    "    out_sample_mse[i] = score(X_test, y_test, X_train, y_train, k=khat[i])\n",
    "\n",
    "\n",
    "# Present data of each fold in a table \n",
    "table = np.column_stack((np.arange(1, 6), khat, val_mse, in_sample_mse, out_sample_mse))\n",
    "headers=[\"Val Fold #\", \"k hat\", \"Val set MSE\", \"In sample MSE\", \"Out sample MSE\"]\n",
    "print(tabulate(table, headers))"
   ]
  },
  {
   "cell_type": "markdown",
   "metadata": {},
   "source": [
    "Firstly to analyse the graph, we see that, for the first fold we gain the minimum MSE at $k=2$. Analysing our table we see that the optimal $k$ is around this, either 2 or 3. And further it produces much lower MSE than with our previous methods. \n",
    "\n",
    "### Task 1.3.2\n",
    "\n",
    "I will now find the $k$ that minimises the average mean squared error over all the folds, that is $\\hat{k} = \\rm{argmin}_{k}<MSE(k)>$. These results are presented in the table below."
   ]
  },
  {
   "cell_type": "code",
   "execution_count": 18,
   "metadata": {},
   "outputs": [
    {
     "data": {
      "image/png": "[encoded data removed]",
      "text/plain": [
       "<Figure size 432x288 with 1 Axes>"
      ]
     },
     "metadata": {
      "needs_background": "light"
     },
     "output_type": "display_data"
    },
    {
     "name": "stdout",
     "output_type": "stream",
     "text": [
      "  k hat    CV <MSE>    In sample MSE    Out sample MSE\n",
      "-------  ----------  ---------------  ----------------\n",
      "      2     12.9523          3.97081           13.7636\n"
     ]
    }
   ],
   "source": [
    "# Avg MSE\n",
    "errorv = np.mean(errorv, axis=0)\n",
    "index = np.argmin(errorv) \n",
    "khat = k[index] # Optimal k  (to minimise <MSE>)\n",
    "\n",
    "# Plot k vs <MSE>\n",
    "plt.figure()\n",
    "plt.plot(k, errorv, markersize=2)\n",
    "plt.plot(khat, errorv[index], 'x')\n",
    "plt.annotate(r\"$\\hat{k}$\", (khat, errorv[index]))\n",
    "plt.xlabel(r\"$k$\")\n",
    "plt.ylabel('MSE')\n",
    "plt.title(r'$<MSE>$ vs $k$, averageing across all folds')\n",
    "plt.show()\n",
    "\n",
    "\n",
    "# Presenting in table \n",
    "in_sample_mse = score(X_train, y_train, X_train, y_train, k=khat)\n",
    "out_sample_mse = score(X_test, y_test, X_train, y_train, k=khat)\n",
    "table = np.array([khat, errorv[index], in_sample_mse, out_sample_mse])\n",
    "headers=[\"k hat\", \"CV <MSE>\", \"In sample MSE\", \"Out sample MSE\"]\n",
    "table = table[None, :]\n",
    "print(tabulate(table, headers))"
   ]
  },
  {
   "cell_type": "markdown",
   "metadata": {},
   "source": [
    "We therefore gain the overall optimal $k$, $\\hat{k}= 2$. And comparing the MSE to the previous methods:\n",
    "+ **In sample mean squared error**, we can see that the in sample MSE for knn is far lower than that of both ridge and linear regression methods. It is about 4 whereas previously in both ridge and linear regression it was about 24. This massive decrease implies that perhaps linear methods are not wise to to model our data.\n",
    "\n",
    "+ **Out of sample mean squared error**, we can see that the out of sample MSE for knn is lower than that of both ridge and linear regression methods. It is about 14 whereas previously in both ridge and linear regression it was about 19. This massive decrease again implies that perhaps linear methods are not wise to to model our data.\n",
    "\n",
    "The presence of in sample outliers may be the cause of the large difference of of these errors.\n",
    "\n",
    "It can therefore be safely claimed that our data cannot be lineary modeled (well) , that it is non-linear, and a non linear model, like knn would be more optimal.\n",
    "\n",
    "Also from , with regards to the homogeneity of the data, perhaps the test and train data are not from the same distribution. The knn MSE for in and out of sample is quite different supporting this, also at the start of this task we saw the mean of the train and test data outputs were quite dfferent.\n",
    "\n",
    "\n",
    "To consolodate I will consider the errors across all methods using a residual plot as below.\n"
   ]
  },
  {
   "cell_type": "code",
   "execution_count": 19,
   "metadata": {},
   "outputs": [
    {
     "data": {
      "image/png": "[encoded data removed]",
      "text/plain": [
       "<Figure size 432x288 with 1 Axes>"
      ]
     },
     "metadata": {
      "needs_background": "light"
     },
     "output_type": "display_data"
    }
   ],
   "source": [
    "y_pred = reg_predict(X_test, X_train, y_train, k=khat)\n",
    "e_knn = y_test - y_pred\n",
    "\n",
    "# Plot resduals for prior methods\n",
    "plt.figure()\n",
    "plt.plot(y_test, e_knn, '+', markersize=3, color ='blue', label='Knn')\n",
    "plt.plot(y_test, e_ridge, 'x', markersize=3, color ='red', label='Ridge')\n",
    "plt.plot(y_test, e_ml, 'o', markersize=2, color ='orange', label='Maximum likelihood')\n",
    "plt.axhline(0, color='black', linewidth=0.5)\n",
    "plt.xlabel(\"True $y$ test values\")\n",
    "plt.ylabel('Residuals')\n",
    "plt.title('Plot of residuals against true $y$ values')\n",
    "plt.legend()\n",
    "plt.show()"
   ]
  },
  {
   "cell_type": "markdown",
   "metadata": {},
   "source": [
    "We can see that the errors across all methods look similar the same, however it seems that the errors for knn are less, particuarly at high $y$ values (ie. it perhaps models the more extreme results better)."
   ]
  },
  {
   "cell_type": "markdown",
   "metadata": {},
   "source": [
    "## Task 2"
   ]
  },
  {
   "cell_type": "markdown",
   "metadata": {},
   "source": [
    "### Task 2.1.1\n",
    "\n",
    "Logistic regression, despite its name, is a linear model for classification rather than regression. In its original form, it is used for binary classifications, i.e., assigning a data point in our test set a binary label.\n"
   ]
  },
  {
   "cell_type": "code",
   "execution_count": 20,
   "metadata": {},
   "outputs": [],
   "source": [
    "# Import training and test data\n",
    "train_data = np.genfromtxt('classification_train.csv', delimiter=',')\n",
    "test_data = np.genfromtxt('classification_test.csv', delimiter=',')\n",
    "X_train = train_data[:,:-1].T # Transpose for use with logistic regression\n",
    "y_train = train_data[:,-1]\n",
    "X_test = test_data[:,:-1].T # Transpose for use with logistic regression\n",
    "y_test = test_data[:,-1]\n",
    "y_train = y_train.astype(int)\n",
    "y_test = y_test.astype(int)"
   ]
  },
  {
   "cell_type": "markdown",
   "metadata": {},
   "source": [
    "We define a function `logistic()` which impliments the below function that is used in logistic regression.\n",
    "$$\n",
    "f(x) = \\frac{1}{1+e^{-x}}\n",
    "$$"
   ]
  },
  {
   "cell_type": "code",
   "execution_count": 21,
   "metadata": {},
   "outputs": [],
   "source": [
    "def logistic(x):\n",
    "    '''\n",
    "    Logistic function, computes 1 / (1 + np.exp(-x))\n",
    "    \n",
    "\n",
    "    Parameters\n",
    "    ----------\n",
    "    x : (N,) numpy array\n",
    "\n",
    "    Returns\n",
    "    -------\n",
    "    logit : (N,) numpy array\n",
    "        1 / (1 + np.exp(-x)).\n",
    "\n",
    "    '''\n",
    "    logit = 1 / (1 + np.exp(-x))\n",
    "    return logit  \n"
   ]
  },
  {
   "cell_type": "markdown",
   "metadata": {},
   "source": [
    "We analogous to the coding tasks we next define \n",
    "$$\n",
    "\\hat{\\boldsymbol y}_{\\text{log}} = f(\\boldsymbol \\beta^T \\boldsymbol X + \\beta_0)\n",
    "$$\n",
    "\n",
    "for use in logistic regression, this is done below."
   ]
  },
  {
   "cell_type": "code",
   "execution_count": 22,
   "metadata": {},
   "outputs": [],
   "source": [
    "def predict_log(X, beta, beta_0):\n",
    "    '''\n",
    "    Calculates y_log as per the lecture notes\n",
    "\n",
    "    Parameters\n",
    "    ----------\n",
    "    X: data of size (d, n)\n",
    "    beta: parameters, a numpy array of size (d, 1)\n",
    "    beta_0: offset, a scalar\n",
    "\n",
    "    Returns\n",
    "    -------\n",
    "    y_log : (1, n) numpy array\n",
    "        y_log as decriibed in lecure notes.\n",
    "\n",
    "    '''\n",
    "    y_log = logistic(beta.T @ X + beta_0) \n",
    "    return y_log"
   ]
  },
  {
   "cell_type": "markdown",
   "metadata": {},
   "source": [
    "We then define functions to help us calculate the the gradients of the loss function, that is: \n",
    "$$\n",
    "\\frac{\\partial \\mathcal L}{\\partial \\boldsymbol \\beta} = \\frac{1}{n} \\sum_{i=1}^n ( y^{(i)} - \\hat{y}_{\\text{log}}^{(i)}) X^{(i)}\n",
    "$$\n",
    "$$\n",
    "\\frac{\\partial \\mathcal L}{\\partial \\beta_0} = \\frac{1}{n} \\sum_{i=1}^n ( y^{(i)} - \\hat{y}_{\\text{log}}^{(i)})\n",
    "$$\n",
    "\n",
    "Where we have the loss function $\n",
    "\\mathcal L = - \\frac{1}{n} \\sum_{i=1}^n y^{(i)} \\log(\\hat{y}_{\\text{log}}^{(i)}) + (1-y^{(i)}) \\log (1-\\hat{y}_{\\text{log}}^{(i)}) \\,\n",
    "$ that we are aiming to minimise. we initilise our $\\beta$, $\\beta_0$ with 0's."
   ]
  },
  {
   "cell_type": "code",
   "execution_count": 23,
   "metadata": {},
   "outputs": [],
   "source": [
    "def initialise(d):\n",
    "  \"\"\"    \n",
    "  Argument:\n",
    "  d: size of the beta vector (or number of parameters)\n",
    "  \n",
    "  Returns:\n",
    "  beta: initialised vector of shape (d, 1)\n",
    "  beta_0: initialised scalar (corresponds to the offset)\n",
    "  \"\"\"\n",
    "  \n",
    "  beta = np.zeros(shape=(d, 1), dtype=np.float32)\n",
    "  beta_0 = 0\n",
    "  \n",
    "  assert(beta.shape==(d, 1))\n",
    "  assert(isinstance(beta_0, float) or isinstance(beta_0, int))\n",
    "  \n",
    "  return beta, beta_0\n",
    "\n",
    "\n",
    "\n",
    "def propagate(X, y, beta, beta_0, threshold=0.5):\n",
    "  \"\"\"\n",
    "  Arguments:\n",
    "  X: data of size (d, n)\n",
    "  y: true label vector of size (1, n)\n",
    "  beta: parameters, a numpy array of size (d, 1)\n",
    "  beta_0: offset, a scalar\n",
    "\n",
    "  Returns:\n",
    "  cost: negative log-likelihood cost for logistic regression\n",
    "  dbeta: gradient of the loss with respect to beta\n",
    "  dbeta_0: gradient of the loss with respect to beta_0\n",
    "  \"\"\"\n",
    "  n = X.shape[1]\n",
    "  y_log = predict_log(X, beta, beta_0)\n",
    "\n",
    "  # cost function\n",
    "  cost = (-1) * np.mean(np.multiply(y, np.log(y_log)) + np.multiply(1-y, np.log(1 - y_log)), axis=1)\n",
    "\n",
    "  # derivatives\n",
    "  dbeta = (1/n) * X @ np.transpose(y_log - y)\n",
    "  dbeta_0 =  np.mean((y_log - y))\n",
    "\n",
    "  assert(dbeta.shape==beta.shape)\n",
    "  assert(dbeta_0.dtype==float)\n",
    "  cost = np.squeeze(cost)\n",
    "  assert(cost.shape==())\n",
    "  \n",
    "  # store gradients in a dictionary\n",
    "  grads = {\"dbeta\": dbeta, \"dbeta_0\": dbeta_0}\n",
    "  \n",
    "  return grads, cost"
   ]
  },
  {
   "cell_type": "markdown",
   "metadata": {},
   "source": [
    "We combine the above functions, to form one function `optimise()`, which calculates the gradients using `propagate()` then moves in this direction by a size equal to the learning rate, it does this repeatedly for a set number of iterations."
   ]
  },
  {
   "cell_type": "code",
   "execution_count": 24,
   "metadata": {},
   "outputs": [],
   "source": [
    "def optimise(X, y, beta, beta_0, num_iterations=1000, learning_rate=0.005, print_cost=False):\n",
    "  \"\"\"\n",
    "  Arguments:\n",
    "  X: data of size (d, n)\n",
    "  y: true label vector of size (1, n)\n",
    "  beta: parameters, a numpy array of size (d, 1)\n",
    "  beta_0: offset, a scalar\n",
    "  num_iterations: number of iterations gradient descent shall update the parameters\n",
    "  learning_rate: step size in updating procedure\n",
    "  print_cost: whether to print the cost every 100 iterations or not\n",
    "\n",
    "  Returns:\n",
    "  params: dictionary containing the parameters beta and offset beta_0\n",
    "  grads: dictionary containing the gradients\n",
    "  costs: list of all the costs computed during the optimisation (can be used to plot the learning curve).\n",
    "  \"\"\"\n",
    "  costs = []\n",
    "    \n",
    "  for i in range(num_iterations):\n",
    "\n",
    "      # calculate cost and gradients\n",
    "      grads, cost = propagate(X, y, beta, beta_0)\n",
    "      \n",
    "      # retrieve derivatives from grads\n",
    "      dbeta = grads[\"dbeta\"]\n",
    "      dbeta_0 = grads[\"dbeta_0\"]\n",
    "      \n",
    "      # updating procedure\n",
    "      beta = beta - learning_rate * dbeta \n",
    "      beta_0 = beta_0 - learning_rate * dbeta_0 \n",
    "      \n",
    "      # record the costs (incase i would like to plot this)\n",
    "      if i % 100 == 0:\n",
    "          costs.append(cost)\n",
    "  \n",
    "  # save parameters and gradients in dictionary\n",
    "  grads = {\"dbeta\": dbeta, \"dbeta_0\": dbeta_0}\n",
    "  \n",
    "  return beta, beta_0, grads, costs"
   ]
  },
  {
   "cell_type": "markdown",
   "metadata": {},
   "source": [
    "To make cross validation easier I create a function `log_r_betas()` that returns the optimised $\\beta$, $\\beta_0$ given training data, the number of iterations and the learning rate. I do this since the $\\beta$'s are independent of the given threshold and so they can be calculated and then reused for different thresholds (assuming everything else remains the same)."
   ]
  },
  {
   "cell_type": "code",
   "execution_count": 25,
   "metadata": {},
   "outputs": [],
   "source": [
    "def log_r_betas(X_train, y_train, num_iterations=5000, learning_rate=0.5):\n",
    "    '''\n",
    "    Calculates beta, beta_0 for a given X_traiin, y_train, number of iterations\n",
    "    and learing rate.\n",
    "    \n",
    "\n",
    "    Parameters\n",
    "    ----------\n",
    "    X_train: data of size (d, n)\n",
    "    y_train: true label vector of size (1, n)\n",
    "    num_iterations: number of iterations gradient descent shall update the parameters\n",
    "    learning_rate: step size in updating procedure\n",
    "\n",
    "    Returns\n",
    "    -------\n",
    "    beta: parameters, a numpy array of size (d, 1)\n",
    "    beta_0: offset, a scalar\n",
    "\n",
    "    '''\n",
    "    \n",
    "    beta, beta_0 = initialise(X_train.shape[0])\n",
    "    # gradient descent\n",
    "    beta, beta_0, _, _ = optimise(X_train, y_train, beta, beta_0, num_iterations, learning_rate)\n",
    "\n",
    "    return beta, beta_0"
   ]
  },
  {
   "cell_type": "markdown",
   "metadata": {},
   "source": [
    "I then create a a function to predict the outcome given the gradients of $\\beta$ ,$\\beta_0$ the threshold (and some test variables), to help with cross validation."
   ]
  },
  {
   "cell_type": "code",
   "execution_count": 26,
   "metadata": {},
   "outputs": [],
   "source": [
    "def predict(X_test, beta, beta_0, threshold=0.5):\n",
    "  \"\"\"\n",
    "  Arguments:\n",
    "  X_test: test data of size (d, n)\n",
    "  beta: parameters, a numpy array of size (d, 1)\n",
    "  beta_0: offset, a scalar\n",
    "\n",
    "  Returns:\n",
    "  y_pred: vector containing all binary predictions (0/1) for the examples in X_test\n",
    "  \"\"\"\n",
    "  n = X_test.shape[1]\n",
    "  y_pred = np.zeros((1,n))\n",
    "  beta = beta.reshape(X_test.shape[0], 1)\n",
    "  \n",
    "  # compute vector y_log predicting the probabilities\n",
    "  y_log = predict_log(X_test, beta, beta_0)\n",
    "  \n",
    "  for i in range(y_log.shape[1]):\n",
    "      \n",
    "      # convert probabilities y_log to actual predictions y_pred\n",
    "      if y_log[0, i] > threshold:\n",
    "          y_pred[0, i] = 1\n",
    "      else:\n",
    "          y_pred[0, i] = 0\n",
    "  \n",
    "  assert(y_pred.shape==(1, n))\n",
    "  \n",
    "  return y_pred"
   ]
  },
  {
   "cell_type": "markdown",
   "metadata": {},
   "source": [
    "I now perform cross validation to optimise the learning rate and threshold. The grid I will search will contain: \n",
    "$$ \\text{Threshold} \\in [0.44, 0.52]$$\n",
    "$$ \\text{Learning rate} \\in (0, 0.15]$$\n",
    "\n",
    "I chose this region since when exploring other regions the accuracy was far lower, and including these regions provided no improvement to parameters and increased the computation time massively. \n",
    "\n",
    "The results of the optimal pair of parameters found for each fold is given below."
   ]
  },
  {
   "cell_type": "code",
   "execution_count": 27,
   "metadata": {},
   "outputs": [
    {
     "name": "stdout",
     "output_type": "stream",
     "text": [
      "  Val Fold #    LR hat    Thresh hat    Val set acc    In sample acc    Out sample acc\n",
      "------------  --------  ------------  -------------  ---------------  ----------------\n",
      "           1      0.03          0.45         74.375             74              74\n",
      "           2      0.03          0.52         75                 73              74.375\n",
      "           3      0.12          0.48         81.875             73.5            74.875\n",
      "           4      0.15          0.47         71.875             73.5            74.75\n",
      "           5      0.03          0.51         76.25              73              74.5\n"
     ]
    }
   ],
   "source": [
    "# Initialise hyperparameters\n",
    "nlr = 5\n",
    "nth = 50\n",
    "n  = nlr*nth\n",
    "lrs = np.linspace(0, 0.15, nlr+1)[1:]\n",
    "ths = np.linspace(0.44, 0.52, nth)\n",
    "params = np.array(np.meshgrid(lrs, ths)).T.reshape(-1,2)\n",
    "\n",
    "# Initialise  array to contain the MSE of the hyperparameters for each fold\n",
    "acc = np.empty((5,n))\n",
    "folds = cross_val_split(train_data, 5)\n",
    "\n",
    "\n",
    "# Save training and validation sets for later use (NON-TRANSPOSED X is saved)\n",
    "train_sets = []\n",
    "val_sets = []\n",
    "\n",
    "# 5 fold cross validation grid \n",
    "for index in range(5):\n",
    "    cv_X_train, cv_y_train, cv_X_val, cv_y_val = cross_val_train_test(folds, index)\n",
    "    cv_y_train, cv_y_val = cv_y_train.astype(int), cv_y_val.astype(int)\n",
    "    train_sets += [cv_X_train, cv_y_train]\n",
    "    val_sets += [cv_X_val, cv_y_val]\n",
    "    cv_X_train, cv_X_val = cv_X_train.T, cv_X_val.T\n",
    "    \n",
    "    for i in range(nlr):\n",
    "        beta, beta_0 = log_r_betas(X_train, y_train, num_iterations=5000, learning_rate=lrs[i])\n",
    "        index1 = i*nth\n",
    "        for j in range(nth):\n",
    "            y_pred_val = predict(cv_X_val, beta, beta_0, threshold=ths[j])\n",
    "            val_score = np.mean(np.abs(y_pred_val - cv_y_val))\n",
    "            acc[index, index1 +j] = val_score    \n",
    "acc = 100 * (1-acc)\n",
    "    \n",
    "# Index of the parameters which minimses the MSE of each fold  \n",
    "index = np.argmax(acc, axis=1) \n",
    "paramshat = params[index, :]\n",
    "\n",
    "i=0 # Fold to plot (let us look at the first (i=0))\n",
    "val_acc = acc[np.arange(5), index]\n",
    "in_acc = np.empty(5)\n",
    "out_acc = np.empty(5)\n",
    "for i in range(5):\n",
    "    beta, beta_0 = log_r_betas(X_train, y_train, num_iterations=5000, learning_rate=paramshat[i,0])\n",
    "    # predict test and train set examples\n",
    "    y_pred = predict(X_train, beta, beta_0, threshold=paramshat[i,1])\n",
    "    out_acc[i] = np.mean(np.abs(y_pred - y_train))\n",
    "    y_pred = predict(X_test, beta, beta_0, threshold=paramshat[i,1])\n",
    "    in_acc[i] = np.mean(np.abs(y_pred - y_test))\n",
    "out_acc = 100*(1-out_acc)\n",
    "in_acc = 100*(1-in_acc)\n",
    "\n",
    "# Present data\n",
    "table = np.column_stack((np.arange(1, 6), np.round(paramshat[:,0], 3), np.round(paramshat[:,1], 2), val_acc, in_acc, out_acc))\n",
    "headers=[\"Val Fold #\", \"LR hat\", \"Thresh hat\", \"Val set acc\", \"In sample acc\", \"Out sample acc\"]\n",
    "print(tabulate(table, headers))"
   ]
  },
  {
   "cell_type": "markdown",
   "metadata": {},
   "source": [
    "As we can see the accuracy seems high, performing  quite well, both in and out of sample, achieving well over 70. However let us notice that the train and test set outcomes have a majority of ones, the proportion is shown in the table below"
   ]
  },
  {
   "cell_type": "code",
   "execution_count": 28,
   "metadata": {},
   "outputs": [
    {
     "name": "stdout",
     "output_type": "stream",
     "text": [
      "  Proportion of 1's in y train    Proportion of 1's in y test\n",
      "------------------------------  -----------------------------\n",
      "                       0.70375                          0.685\n"
     ]
    }
   ],
   "source": [
    "table = [[np.mean(y_train), np.mean(y_test)]]\n",
    "headers = headers=[\"Proportion of 1's in y train\", \"Proportion of 1's in y test\"]\n",
    "print(tabulate(table, headers))"
   ]
  },
  {
   "cell_type": "markdown",
   "metadata": {},
   "source": [
    "And therefore naively picking 1 as an outcome irrespective of the inputs would result in a in and out of sample accuracies that are $70\\%$ and $69\\%$, respectively. This should perhaps be considered when looking at the accuracies."
   ]
  },
  {
   "cell_type": "markdown",
   "metadata": {},
   "source": [
    "### Task 2.1.2\n",
    "\n",
    "Similarly to what we have done when using cross validation as before, I now aim to calculate the parameters that minimise the average MSE across all folds, that is:\n",
    "$$\n",
    "(\\hat{T}, \\hat{LR}) = \\rm{argmin}_{(T,LR)} \\left( \\frac{1}{5}\\sum_{i=1}^{5}\\text{accuracy}_i\\left( T,LR \\right)\\right)= \\rm{argmin}_{(T,LR)} <\\text{accuracy}\\left( T,LR \\right)>\n",
    "$$\n",
    "\n",
    "Using similar notation to before, where $T$ and $LR$ refer to the learning rate and  the threshold, and $< \\text{accuracy}>$ refers to the mean of the accuracies of each fold. I do this by averaging the accuracy across the folds and then picking the index referring to the maximum, I plot this in the graph below."
   ]
  },
  {
   "cell_type": "code",
   "execution_count": 29,
   "metadata": {},
   "outputs": [
    {
     "data": {
      "image/png": "[encoded data removed]",
      "text/plain": [
       "<Figure size 432x288 with 1 Axes>"
      ]
     },
     "metadata": {
      "needs_background": "light"
     },
     "output_type": "display_data"
    }
   ],
   "source": [
    "# Avg mse\n",
    "acc = np.mean(acc, axis=0)\n",
    "# Plot of hyperparameters against accuracy \n",
    "y = params[:,0]\n",
    "x = params[:,1]\n",
    "z = acc\n",
    "fig = plt.figure()\n",
    "ax = Axes3D(fig)\n",
    "surf = ax.plot_trisurf(x, y, z, cmap=cm.viridis)\n",
    "ax.set_ylabel(\"Learning Rate\")\n",
    "ax.set_xlabel(\"Threshold\")\n",
    "ax.set_zlabel(\"Accuracy (%)\")\n",
    "ax.set_title(\"<Accuracy> vs parameters\", fontsize=13)\n",
    "ax.get_xaxis().set_ticks(np.arange(0.44, 0.52, 0.02)) # Aesthetics\n",
    "plt. show()"
   ]
  },
  {
   "cell_type": "markdown",
   "metadata": {},
   "source": [
    "We can see there are a couple peaks of this graph, at a larger learning rate (relative to its axis scale), and at a couple of central thresholds. I now calculate this peak more rigorously:"
   ]
  },
  {
   "cell_type": "code",
   "execution_count": 30,
   "metadata": {},
   "outputs": [
    {
     "name": "stdout",
     "output_type": "stream",
     "text": [
      "  LR hat     T hat    CV <acc>    In sample acc    Out sample acc\n",
      "--------  --------  ----------  ---------------  ----------------\n",
      "    0.12  0.454694          75             72.5                75\n"
     ]
    }
   ],
   "source": [
    "# Find hyperparameters that maximise average accuracy \n",
    "index = np.argmax(acc) \n",
    "paramshat = params[index, :]\n",
    "\n",
    "beta, beta_0 = log_r_betas(X_train, y_train, num_iterations=5000, learning_rate=paramshat[0])\n",
    "y_pred = predict(X_train, beta, beta_0, threshold=paramshat[1])\n",
    "out_acc = 100 - 100*np.mean(np.abs(y_pred - y_train))\n",
    "y_pred = predict(X_test, beta, beta_0, threshold=paramshat[1])\n",
    "in_acc = 100 - 100*np.mean(np.abs(y_pred - y_test))\n",
    "\n",
    "\n",
    "# Display as table\n",
    "table = np.array([paramshat[0], paramshat[1], acc[index], in_acc, out_acc])\n",
    "headers=[\"LR hat\", \"T hat\", \"CV <acc>\", \"In sample acc\", \"Out sample acc\"]\n",
    "table = table[None, :]\n",
    "print(tabulate(table, headers))\n"
   ]
  },
  {
   "cell_type": "markdown",
   "metadata": {},
   "source": [
    "And hence I find:\n",
    "$$\n",
    "\\hat{LR} = 0.12\n",
    "$$\n",
    "$$\n",
    "\\hat{T} = 0.454694\n",
    "$$"
   ]
  },
  {
   "cell_type": "markdown",
   "metadata": {},
   "source": [
    "We can also consider the confusion matrix of this model as below:"
   ]
  },
  {
   "cell_type": "code",
   "execution_count": 31,
   "metadata": {},
   "outputs": [
    {
     "data": {
      "image/png": "[encoded data removed]",
      "text/plain": [
       "<Figure size 432x288 with 2 Axes>"
      ]
     },
     "metadata": {
      "needs_background": "light"
     },
     "output_type": "display_data"
    }
   ],
   "source": [
    "def confusion_mat(y_actu, y_pred, plot=True):\n",
    "    '''\n",
    "    Computes the Confusion matrix and various accuracies.\n",
    "\n",
    "    Parameters\n",
    "    ----------\n",
    "    y_actu : (N,)\n",
    "        Actual Outputs.\n",
    "    y_pred : (N,)\n",
    "        preducted outputs.\n",
    "    plot : bool, optional\n",
    "        Whether a plot to be printed or not. The default is True.\n",
    "\n",
    "    Returns\n",
    "    -------\n",
    "    acc : float\n",
    "        Accuracy.\n",
    "    spec : float\n",
    "        Specificity.\n",
    "    precis : float\n",
    "        Precision.\n",
    "    rec : float\n",
    "        Recall.\n",
    "    F1 : float\n",
    "        F1 score.\n",
    "\n",
    "    '''\n",
    "    y_actu, y_pred = list(y_actu), list(y_pred)\n",
    "    FP = 0\n",
    "    TN = 0\n",
    "    TP = 0\n",
    "    FN = 0\n",
    "    l = len(y_actu)\n",
    "    for i in range(l):\n",
    "        if y_actu[i] == 0:\n",
    "            if y_pred[i] == 1:\n",
    "                FP += 1\n",
    "            else:\n",
    "                TN += 1\n",
    "        if y_actu[i] == 1:\n",
    "            if y_pred[i] == 1:\n",
    "                TP += 1\n",
    "            else:\n",
    "                FN += 1\n",
    "                \n",
    "    acc = (TP+TN) / l\n",
    "    precis = TP / (TP+FP)\n",
    "    rec = TP / (TP+FN)\n",
    "    spec = TN / (TN+FP)\n",
    "    F1 = 2 * precis * rec / (precis+rec)\n",
    "    if plot:\n",
    "        conf_mat = np.array([[TN,FN], [FP, TP]])\n",
    "        sns.heatmap(conf_mat, annot=True)\n",
    "        plt.title('Confusion Matrix')\n",
    "        plt.xlabel('Predicted') \n",
    "        plt.ylabel('Actual')\n",
    "        plt.show()\n",
    "    return acc, spec, precis, rec, F1\n",
    "\n",
    "confusion_mat(y_test, y_pred[0, :]);"
   ]
  },
  {
   "cell_type": "markdown",
   "metadata": {},
   "source": [
    "We can see that despite our model being quite accurate it has a tendency to predict a few false positives (rather than false negatives). This is likely due to the fact, as mentioned previously our data has a large proportion of ones."
   ]
  },
  {
   "cell_type": "markdown",
   "metadata": {},
   "source": [
    "### Task 2.2.1\n",
    "\n",
    "To do random forests I implement the code from the coding task with some changes, some of these changes were suggested in the Piazza post Question \\#56.\n",
    "\n",
    "Ignore for a moment the idea of forests, and let us first consider forming a single tree to model our data. The modelling in the coding task was done with the assumption of discrete variables and so it did not split the data into two regions $\\{x : x< s\\}$ and $\\{x : x \\geq s\\}$. I have amended the function to split into these two regions, so called the left region and the right region. Further in the coding task a variable was removed once it had been split from, this is sub-optimal for our data since we may want to split the same feature more than once, this has been done in the function `split_dataset()` and then `choose_best_feature()` has been amended to accommodate for these changes.\n",
    "\n",
    "I have changed the coding task's Gini-impurity to instead calculate the cross entropy (this is done in function `cr_ent()`) that is:\n",
    "$$\n",
    "CE(\\pi) = \\sum_i\\pi_i log(1-\\pi_i)\n",
    "$$\n",
    "Although in some cases we have $\\pi_i = 1$ and hence we attempt to calculate $log(0)$ to resolve this I have added a small amount inside the log and use this definition instead:\n",
    "$$\n",
    "CE(\\pi) \\approx \\sum_i\\pi_i log(1-\\pi_i+10^{-10})\n",
    "$$"
   ]
  },
  {
   "cell_type": "code",
   "execution_count": 32,
   "metadata": {},
   "outputs": [],
   "source": [
    "def cr_ent(y, sample_weights=None):\n",
    "  \"\"\" \n",
    "  Calculate the Cross Entropy for labels.\n",
    "  Arguments:\n",
    "      y: vector of training labels, of shape (N,).\n",
    "      sample_weights: weights for each samples, of shape (N,).\n",
    "  Returns:\n",
    "      (float): the gini impurity for y.\n",
    "  \"\"\"\n",
    "  if sample_weights is None:\n",
    "      sample_weights = np.ones(y.shape[0]) / y.shape[0]\n",
    "  \n",
    "  cross = 0\n",
    "  num = y.shape[0]  # number of labels\n",
    "  label_counts = {}  # caculate different labels in y，and store in label_counts\n",
    "  for i in range(num):\n",
    "      if y[i] not in label_counts.keys():\n",
    "          label_counts[y[i]] = 0\n",
    "      label_counts[y[i]] += sample_weights[i]\n",
    "  \n",
    "  for key in label_counts:\n",
    "      prob = float(label_counts[key]) / float(np.sum(sample_weights))\n",
    "      cross += prob * np.log(1-prob+10**-10)\n",
    "\n",
    "  return cross\n",
    "\n",
    "\n",
    "def split_dataset(X, y, column, value, sample_weights=None):\n",
    "  \"\"\"\n",
    "  Return the split of data whose column-th feature equals value.\n",
    "  Arguments:\n",
    "      X: training features, of shape (N, D).\n",
    "      y: vector of training labels, of shape (N,).\n",
    "      column: the column of the feature for splitting.\n",
    "      value: the value of the column-th feature for splitting.\n",
    "      sample_weights: weights for each samples, of shape (N,).\n",
    "  Returns:\n",
    "      (np.array): the subset of X whose column-th feature equals value.\n",
    "      (np.array): the subset of y whose column-th feature equals value.\n",
    "      (np.array): the subset of sample weights whose column-th feature equals value.\n",
    "   \"\"\" \n",
    "\n",
    "  left_i = []\n",
    "  right_i = []\n",
    "  featVec = X[:, column]\n",
    "  # Seperate data into two regions, < value, >= value\n",
    "  for i in range(len(featVec)):\n",
    "      if featVec[i] <= value:\n",
    "          left_i.append(i)\n",
    "      else:\n",
    "          right_i.append(i)     \n",
    "  Xl = X[left_i,:]\n",
    "  yl = y[left_i]\n",
    "  Xr = X[right_i,:]\n",
    "  yr = y[right_i]\n",
    "  # returns list of splits\n",
    "  if (sample_weights is None):\n",
    "      return [(Xl, yl), (Xr, yr)]\n",
    "  else:\n",
    "      return [(Xl, yl, sample_weights[left_i]) , (Xr, yr, sample_weights[right_i])]\n",
    "\n",
    "\n",
    "\n",
    "\n",
    "\n",
    "def cr_ent_2(X, y, column, value, sample_weights=None):\n",
    "  \"\"\"\n",
    "  Calculate the resulted Cross Entropy given a vector of features.\n",
    "  Arguments:\n",
    "      X: training features, of shape (N, D).\n",
    "      y: vector of training labels, of shape (N,).\n",
    "      column: the column of the feature for calculating. 0 <= column < D\n",
    "      sample_weights: weights for each samples, of shape (N,).\n",
    "  Returns:\n",
    "      (float): the resulted gini impurity after splitting by this feature.\n",
    "  \"\"\"\n",
    "  if sample_weights is None:\n",
    "      sample_weights = np.ones(y.shape[0]) / y.shape[0]\n",
    "  \n",
    "  new_impurity = 0\n",
    "  old_cost = cr_ent(y, sample_weights)\n",
    "  \n",
    "  new_cost = 0.0\n",
    "  #split the values of i-th feature and calculate the cost\n",
    "  for sub_X, sub_y, sub_sample_weights in split_dataset(X, y, column, value, sample_weights):\n",
    "      prob = np.sum(sub_sample_weights) / float(np.sum(sample_weights))\n",
    "      new_cost += prob * cr_ent(sub_y, sub_sample_weights)\n",
    "      \n",
    "  \n",
    "  new_impurity = old_cost - new_cost # information gain\n",
    "\n",
    "  return new_impurity\n",
    "\n",
    "\n",
    "\n",
    "\n",
    "def choose_best_feature(X, y, n_features=None, sample_weights=None):\n",
    "  \"\"\"\n",
    "  Choose the best feature to split according to criterion.\n",
    "  Args:\n",
    "      X: training features, of shape (N, D).\n",
    "      y: vector of training labels, of shape (N,).\n",
    "      n_features: number of predictors to use. Defaults to maximum.\n",
    "      sample_weights: weights for each samples, of shape (N,).\n",
    "  Returns:\n",
    "      (int): the column for the best feature\n",
    "  \"\"\"\n",
    "  n_cols = X.shape[1]   \n",
    "  if sample_weights is None:\n",
    "      sample_weights = np.ones(y.shape[0]) / y.shape[0]\n",
    "  if n_features is None:\n",
    "      n_features = n_cols   \n",
    "  best_gain_cost = 0.0\n",
    "  best_feature_idx = None\n",
    "  best_feature_val = None\n",
    "  features = np.random.choice(np.arange(n_cols), size=n_features, replace=False)\n",
    "  for i in features:\n",
    "      unique_vals = np.unique(X[:, i])\n",
    "      for value in unique_vals:\n",
    "          info_gain_cost = cr_ent_2(X, y, i, value, sample_weights)\n",
    "          if info_gain_cost > best_gain_cost:\n",
    "              best_gain_cost = info_gain_cost\n",
    "              best_feature_idx = i\n",
    "              best_feature_val = value         \n",
    "  return best_feature_idx, best_feature_val \n"
   ]
  },
  {
   "cell_type": "markdown",
   "metadata": {},
   "source": [
    "This gives us a basis for building a tree, however when building a forest we need to know the exact probabilities of being in each class (0 or 1 for us), as opposed to the class that is the most likely to allow us to make a prediction from the forest.\n",
    "\n",
    "That is, for an input, and the corresponding probability vector for each tree in the forest, $\\pi^{DT}$ we aggregate the probabilities to calculate the most likely output.\n",
    "$$\n",
    "\\pi = \\frac{1}{B}\\sum_{b=1}^{B}\\pi^{DT}_{b}\n",
    "$$\n",
    "\n",
    "To help impliment this I created a function `prob_of_one()` that effectively replaces the majority vote function used in the notebooks. This function will calculate the proportion of labels that are one, given a vector of training labels. Therefore our trees now store the probability of that region containing a one as opposed to the most likely label.\n",
    "\n",
    "Working with probabilities would disrupt our classify function and so I created a new function `classify_forest()` that inputs a single sample and classifies it, that is it takes the probability found by classifying the sample and converts it into a 1 or 0 (with default threshold of 0.5). This combined with the `predict()` function which has been slightly modified to allow for forest inputs, allows us to predict from forests."
   ]
  },
  {
   "cell_type": "code",
   "execution_count": 33,
   "metadata": {},
   "outputs": [],
   "source": [
    "def prob_of_one(y, sample_weights=None):\n",
    "  \"\"\"\n",
    "  Return the proportion of labels which appear in y that are ones (as opposed to zeros).\n",
    "  Args:\n",
    "      y: vector of training labels, of shape (N,).\n",
    "      sample_weights: weights for each samples, of shape (N,).\n",
    "  Returns:\n",
    "      (int): the majority label\n",
    "  \"\"\"\n",
    "  l = len(y)\n",
    "  if sample_weights is None:\n",
    "      sample_weights = np.ones(l) / l\n",
    "  \n",
    "  proba_one = np.sum(y*sample_weights)/ np.sum(sample_weights)\n",
    "  return proba_one\n",
    "\n",
    "\n",
    "\n",
    "def build_tree(X, y, feature_names, depth, n_features, max_depth=10, sample_weights=None, min_samples_leaf=2):\n",
    "  \"\"\"Build the decision tree according to the data.\n",
    "  Args:\n",
    "      X: (np.array) training features, of shape (N, D).\n",
    "      y: (np.array) vector of training labels, of shape (N,).\n",
    "      feature_names (list): record the name of features in X in the original dataset.\n",
    "      depth (int): current depth for this node.\n",
    "      sample_weights: weights for each samples, of shape (N,).\n",
    "  Returns:\n",
    "      (dict): a dict denoting the decision tree. \n",
    "      <tree> ::= node:'leaf' label:<iris-categ>\n",
    "              |  node:'split' feature-name:<col-name> value:<num> leaf:<tree> right:<tree>  \n",
    "  \"\"\"\n",
    "  mytree = dict()\n",
    "\n",
    "  # include a clause for the cases where (i) no feature, (ii) all lables are the same, \n",
    "  # (iii) depth exceed, or (iv) X is too small\n",
    "  if len(feature_names)==0 or len(np.unique(y))==1 or depth>=max_depth or len(X)<=min_samples_leaf: \n",
    "    mytree = { 'node':'leaf' ,  'label': prob_of_one(y, sample_weights) }\n",
    "  else:  \n",
    "    best_feature_idx, value = choose_best_feature(X, y, n_features, sample_weights)\n",
    "    if best_feature_idx is None:\n",
    "        mytree = { 'node':'leaf' ,  'label': prob_of_one(y, sample_weights) }\n",
    "    else:\n",
    "        best_feature_name = feature_names[best_feature_idx]\n",
    "        feature_names = feature_names[:]\n",
    "        splits = split_dataset(X, y, best_feature_idx, value, sample_weights)\n",
    "        mytree = { 'node':'split', 'feature_name':best_feature_name, 'value':value }\n",
    "        mytree['left'] = build_tree(splits[0][0], splits[0][1], feature_names, depth+1, n_features, max_depth, splits[0][2],) \n",
    "        mytree['right'] = build_tree(splits[1][0], splits[1][1], feature_names, depth+1,n_features, max_depth, splits[1][2])\n",
    "\n",
    "  return mytree\n",
    "\n",
    "def train(X, y, n_features, max_depth=10, sample_weights=None):\n",
    "  \"\"\"\n",
    "  Build the decision tree according to the training data.\n",
    "  Args:\n",
    "      X: (pd.Dataframe) training features, of shape (N, D). Each X[i] is a training sample.\n",
    "      y: (pd.Series) vector of training labels, of shape (N,). y[i] is the label for X[i], and each y[i] is\n",
    "      an integer in the range 0 <= y[i] <= C. Here C = 1.\n",
    "      sample_weights: weights for each samples, of shape (N,).\n",
    "  \"\"\"\n",
    "  if sample_weights is None:\n",
    "      # if the sample weights is not provided, we assume the samples have uniform weights\n",
    "      sample_weights = np.ones(X.shape[0]) / X.shape[0]\n",
    "  else:\n",
    "      sample_weights = np.array(sample_weights) / np.sum(sample_weights)\n",
    "\n",
    "  feature_names = X.columns.tolist()\n",
    "  X = np.array(X)\n",
    "  y = np.array(y)\n",
    "  tree = build_tree(X, y, feature_names, 1, n_features, max_depth, sample_weights=sample_weights)\n",
    "  return tree\n",
    "\n",
    "\n",
    "def classify(x, tree):\n",
    "  \"\"\"\n",
    "  Classify a single sample with the fitted decision tree.\n",
    "  Args:\n",
    "      x: (pd.Dataframe) a single sample features, of shape (D,).\n",
    "  Returns:\n",
    "      (int): predicted testing sample label.\n",
    "  \"\"\"\n",
    "  if tree['node'] == 'leaf':\n",
    "    return tree['label']\n",
    "  else:\n",
    "    feature_name = tree['feature_name']\n",
    "    v = x.loc[feature_name]\n",
    "    if (v <= tree['value']):\n",
    "        return classify(x, tree['left'],)\n",
    "    else:\n",
    "        return classify(x, tree['right'])\n",
    "\n",
    "def classify_forest(x, forest, threshold=0.5):\n",
    "    '''\n",
    "    Classifies a single sample with a forest.\n",
    "\n",
    "    Parameters\n",
    "    ----------\n",
    "    x : x: (pd.Dataframe) a single sample features, of shape (D,).\n",
    "        Feature to be classified.\n",
    "    forest : list of trees\n",
    "        list of trees.\n",
    "    threshold : float (between 0 and 1), optional\n",
    "        The threshold at which we catorgise 1 or 0. The default is 0.5.\n",
    "\n",
    "    Returns\n",
    "    -------\n",
    "    outcome : Integer 1 or 0\n",
    "        1 if the mean probability of x being a 1 is >= threshold.\n",
    "\n",
    "    '''\n",
    "    proba_one = []\n",
    "    for tree in forest:\n",
    "        # Find the probability of x being a one for each tree\n",
    "        proba_one.append(classify(x, tree))\n",
    "    proba_one = np.mean(proba_one)\n",
    "    if proba_one < threshold:\n",
    "        outcome = 0\n",
    "    else:\n",
    "        outcome = 1\n",
    "    return outcome\n",
    "    \n",
    "\n",
    "def predict(X, forest):\n",
    "  \"\"\"\n",
    "  Predict classification results for X from a forest.\n",
    "  Args:\n",
    "      X: (pd.Dataframe) testing sample features, of shape (N, D).\n",
    "      forest: list of trees.\n",
    "  Returns:\n",
    "      (np.array): predicted testing sample labels, of shape (N,).\n",
    "  \"\"\"\n",
    "  if len(X.shape)==1:\n",
    "      return classify_forest(X, forest)\n",
    "  else:\n",
    "      results=[]\n",
    "      for i in range(X.shape[0]):\n",
    "          results.append(classify_forest(X.iloc[i, :], forest))\n",
    "      return np.array(results)"
   ]
  },
  {
   "cell_type": "markdown",
   "metadata": {},
   "source": [
    "To impliment the subsampling I create a function `subsample()`, seen below and then to collate all these functions `bagging_train_forest()` which creates a forest using feature bagging."
   ]
  },
  {
   "cell_type": "code",
   "execution_count": 34,
   "metadata": {},
   "outputs": [],
   "source": [
    "# Create a random subsample from the dataset with replacement\n",
    "def subsample(X, y, n=None, rand=None):\n",
    "    '''\n",
    "    Creates subsample of X, y with replacement of size n with random seed 'rand'.\n",
    "\n",
    "    Parameters\n",
    "    ----------\n",
    "    X : pd.Dataframe (N,D)\n",
    "        Variables to be sampled.\n",
    "    y : pd.series (N,)\n",
    "        Target to be sampled.\n",
    "    n : integer, optional\n",
    "        Size of random samples. The default is None.\n",
    "    rand : integer, optional\n",
    "        The seed to be used. The default is None.\n",
    "\n",
    "    Returns\n",
    "    -------\n",
    "    Xsamp : pd.Dataframe (n,D)\n",
    "        Subsample of X.\n",
    "    ysamp : pd.series (n,)\n",
    "        Subsample of y.\n",
    "\n",
    "    '''\n",
    "    if n is None:\n",
    "        n = len(y)\n",
    "    if rand is None:\n",
    "        rand = np.random.randint(99999999)\n",
    "    Xsamp = X.sample(n, replace=True, random_state=rand)\n",
    "    ysamp = y.sample(n, replace=True, random_state=rand)\n",
    "    return Xsamp, ysamp \n",
    "\n",
    "\n",
    "def bagging_train_forest(X_train, y_train, n_features, max_depth, B):\n",
    "    '''\n",
    "    Creates a forest of B trees, considering a maximum of n_features per tree, \n",
    "    each with a maximum depth of max_depth. \n",
    "    \n",
    "\n",
    "    Parameters\n",
    "    ----------\n",
    "    X_train : (pd.Dataframe) testing sample features, of shape (N, D).\n",
    "        Features to train from.\n",
    "    y_train : (pd.Dataframe) testing sample features, of shape (N,).\n",
    "        Outputs to train from.\n",
    "    n_features : Integer\n",
    "        Maximum number of features.\n",
    "    max_depth : Integer\n",
    "        Maximum depth of each tree.\n",
    "    B : Integer\n",
    "        number of trees of in forest.\n",
    "\n",
    "    Returns\n",
    "    -------\n",
    "    forest : List of trees (length B)\n",
    "\n",
    "    '''\n",
    "    forest = list()\n",
    "    for i in range(B):\n",
    "        X, y = subsample(X_train, y_train)\n",
    "        tree = train(X, y, n_features, max_depth)\n",
    "        forest.append(tree)\n",
    "    return forest\n",
    "\n",
    "\n",
    "def scoredt(y_pred, y_actu):\n",
    "    '''\n",
    "    Produces the accuracy of the prediction, against the actual values.\n",
    "\n",
    "    Parameters\n",
    "    ----------\n",
    "    y_pred : (N,) Vector of predicted values.\n",
    "        Predicted values.\n",
    "    y_actu : (N,) Vector of actual values.\n",
    "        actual values.\n",
    "\n",
    "    Returns\n",
    "    -------\n",
    "    Acc : float\n",
    "    Accuracy of prediction. That is (True positives + True Negatives) / Total predictions\n",
    "        \n",
    "\n",
    "    '''\n",
    "    acc = np.float(sum(y_pred==y_actu)) / float(len(y_actu))\n",
    "    return acc"
   ]
  },
  {
   "cell_type": "markdown",
   "metadata": {},
   "source": [
    "I now perform a grid search on a set of hyper parameters, the Maximum depth (`mds`), Number of trees (`Bs`), and the maximum number of features  (`ps`). I only tried a small sample of hyper-parameters since otherwise the computational time is enormous. In lecture notes we were told the optimal $p$ is often $\\frac{p}{4}$ for classifciation problems, and hence I included this in the parameters I tested. Ideally we would analyse far more hyperparamters and then see if the if they provided a feasible increase. That is is the computation of increasing, say the number of trees (or their depth), provides a better model and is worth the additional computation - does it provide a large accuracy increase.\n",
    "\n",
    "I outputted my results in the table below:"
   ]
  },
  {
   "cell_type": "code",
   "execution_count": 35,
   "metadata": {},
   "outputs": [
    {
     "name": "stdout",
     "output_type": "stream",
     "text": [
      "Computing fold 1\n",
      "Computing fold 2\n",
      "Computing fold 3\n",
      "Computing fold 4\n",
      "Computing fold 5\n",
      "  Val Fold #    Max_d hat    B hat    p hat    Val set acc    In sample acc    Out sample acc\n",
      "------------  -----------  -------  -------  -------------  ---------------  ----------------\n",
      "           1            5        3        3         0.7             0.71875             0.705\n",
      "           2            5        3        4         0.75            0.7                 0.675\n",
      "           3            6        4        3         0.7625          0.7225              0.69\n",
      "           4            6        4        4         0.675           0.72375             0.695\n",
      "           5            6        4        4         0.7375          0.735               0.665\n"
     ]
    }
   ],
   "source": [
    "# Hyper parametters to grid search through \n",
    "mds = [5, 6]\n",
    "Bs = [3, 4]\n",
    "ps = [3, 4]\n",
    "\n",
    "nmds = len(mds)\n",
    "nBs = len(Bs)\n",
    "nps = len(ps)\n",
    "n  = nBs*nps*nmds\n",
    "acc = np.empty((5,n))\n",
    "\n",
    "# Array of all possible combinations of hyper-parameters\n",
    "params = np.array(np.meshgrid(mds, Bs, ps)).T.reshape(-1,3) \n",
    "\n",
    "# Cross validation gridsearch of hyperparameters. NOTE we need to convert our \n",
    "# data to dataframes for use with our function. (and transpose it to undo the \n",
    "# trasposition done for logistic regression). We use the same folds for comparison.\n",
    "for index in range(5):\n",
    "    print('Computing fold', index+1 )\n",
    "    twoindex = 2*index\n",
    "    twoindexplusone = twoindex + 1\n",
    "    cv_X_train, cv_X_val = train_sets[twoindex], val_sets[twoindex]\n",
    "    cv_y_train, cv_y_val = train_sets[twoindexplusone], val_sets[twoindexplusone]\n",
    "    cv_X_train = pd.DataFrame(cv_X_train)\n",
    "    cv_X_val = pd.DataFrame(cv_X_val)\n",
    "    cv_y_train = pd.DataFrame(cv_y_train)\n",
    "    cv_y_val = pd.DataFrame(cv_y_val)\n",
    "    cv_y_train = cv_y_train.T.squeeze()\n",
    "    cv_y_val = cv_y_val.T.squeeze()\n",
    "    for i in range(n):\n",
    "        max_depth = params[i, 0]\n",
    "        B = params[i, 1]\n",
    "        n_features = params[i, 2]\n",
    "        forest = bagging_train_forest(cv_X_train, cv_y_train, n_features, max_depth, B)\n",
    "        y_pred = predict(cv_X_val, forest)\n",
    "        val_acc = scoredt(y_pred, cv_y_val)\n",
    "        acc[index, i] = val_acc\n",
    "        \n",
    "\n",
    "# Find the optial parameters for each fold\n",
    "index = np.argmax(acc, axis=1) \n",
    "paramshat = params[index, :]\n",
    "\n",
    "# Convert data to data frames\n",
    "X_train = pd.DataFrame(X_train.T)\n",
    "y_train = pd.DataFrame(y_train)\n",
    "y_train = y_train.T.squeeze()\n",
    "X_test = pd.DataFrame(X_test.T)\n",
    "y_test = pd.DataFrame(y_test)\n",
    "y_test = y_test.T.squeeze()\n",
    "\n",
    "\n",
    "# Calculate accuracies of optimal paramters\n",
    "val_acc = acc[np.arange(5), index]\n",
    "in_acc = np.empty(5)\n",
    "out_acc = np.empty(5)\n",
    "for i in range(5):\n",
    "    max_depth = paramshat[i, 0]\n",
    "    B = paramshat[i, 1]\n",
    "    n_features = paramshat[i, 2]\n",
    "    forest = bagging_train_forest(X_train, y_train,n_features, max_depth, B)\n",
    "    y_pred = predict(X_test, forest)\n",
    "    out_acc[i] = scoredt(y_pred, y_test)\n",
    "    y_pred = predict(X_train, forest)\n",
    "    in_acc[i] = scoredt(y_pred, y_train)\n",
    "\n",
    "table = np.column_stack((np.arange(1, 6), np.round(paramshat[:,0], 3), np.round(paramshat[:,1], 2),np.round(paramshat[:,2], 2), val_acc, in_acc, out_acc))\n",
    "headers=[\"Val Fold #\", \"Max_d hat\", \"B hat\", \"p hat\", \"Val set acc\", \"In sample acc\", \"Out sample acc\"]\n",
    "print(tabulate(table, headers))"
   ]
  },
  {
   "cell_type": "markdown",
   "metadata": {},
   "source": [
    "We get several different combinations that seem feasible, I now calculate the parameters that optimise the average accuracy:"
   ]
  },
  {
   "cell_type": "code",
   "execution_count": 36,
   "metadata": {},
   "outputs": [
    {
     "name": "stdout",
     "output_type": "stream",
     "text": [
      "  Max_d hat    B hat    p hat    CV <acc>    In sample acc    Out sample acc\n",
      "-----------  -------  -------  ----------  ---------------  ----------------\n",
      "          6        4        3     0.71125           0.7275              0.72\n"
     ]
    }
   ],
   "source": [
    "# Calculate paramters that maximise average accuracy (validation)\n",
    "acc = np.mean(acc, axis=0)\n",
    "index = np.argmax(acc)\n",
    "paramshat = params[index, :]\n",
    "max_depth = paramshat[0]\n",
    "B = paramshat[1]\n",
    "n_features = paramshat[2]\n",
    "# Create forest\n",
    "forest = bagging_train_forest(X_train, y_train,n_features, max_depth, B)\n",
    "\n",
    "\n",
    "# Out of sample\n",
    "y_pred_test = predict(X_test, forest)\n",
    "out_acc = scoredt(y_pred_test, y_test)\n",
    "\n",
    "# In sample\n",
    "y_pred_train = predict(X_train, forest)\n",
    "in_acc = scoredt(y_pred_train, y_train)\n",
    "\n",
    "# Present Data\n",
    "table = np.array([paramshat[0], paramshat[1], paramshat[2], acc[index], in_acc, out_acc])\n",
    "headers=[\"Max_d hat\", \"B hat\", \"p hat\", \"CV <acc>\", \"In sample acc\", \"Out sample acc\"]\n",
    "table = table[None, :]\n",
    "print(tabulate(table, headers))\n"
   ]
  },
  {
   "cell_type": "markdown",
   "metadata": {},
   "source": [
    "We can see that this model does seem to offer good predictions in that they are (marginally) better than a naive choice of predictions. Although in reality, as mentioned above we would require a more rigorous grid search.\n",
    "\n",
    "Below I plot the confusion matrix for the in sample data."
   ]
  },
  {
   "cell_type": "code",
   "execution_count": 37,
   "metadata": {},
   "outputs": [
    {
     "data": {
      "image/png": "[encoded data removed]",
      "text/plain": [
       "<Figure size 432x288 with 2 Axes>"
      ]
     },
     "metadata": {
      "needs_background": "light"
     },
     "output_type": "display_data"
    }
   ],
   "source": [
    "#In sample\n",
    "acc_in = list(confusion_mat(y_pred_train, y_train))"
   ]
  },
  {
   "cell_type": "markdown",
   "metadata": {},
   "source": [
    "We can see that the model performs well, although has quite a few false positives, this is likely due to the sparsity of the zero outcome in the datasets."
   ]
  },
  {
   "cell_type": "code",
   "execution_count": 38,
   "metadata": {
    "scrolled": true
   },
   "outputs": [
    {
     "data": {
      "image/png": "[encoded data removed]",
      "text/plain": [
       "<Figure size 432x288 with 2 Axes>"
      ]
     },
     "metadata": {
      "needs_background": "light"
     },
     "output_type": "display_data"
    }
   ],
   "source": [
    "# Out sample\n",
    "acc_out = list(confusion_mat(y_pred_test, y_test))"
   ]
  },
  {
   "cell_type": "markdown",
   "metadata": {},
   "source": [
    "We can see the out of sample confusion matrix above suffers from the same issues.\n",
    "\n",
    "Let us consider the following ways to measure the accuracy of predictions:\n",
    "$$\n",
    "\\text{Recall} = \\frac{\\text{True Positives}}{\\text{True Positives} + \\text{False Negatives}}\n",
    "$$\n",
    "\n",
    "\n",
    "$$\n",
    "\\text{Specificity} = \\frac{\\text{True Negatives}}{\\text{True Negatives} + \\text{False Positives}}\n",
    "$$\n",
    "\n",
    "\n",
    "$$\n",
    "\\text{Accuracy} = \\frac{\\text{True Positives}+\\text{True Negatives} }{\\text{Total}}\n",
    "$$\n",
    "\n",
    "\n",
    "$$\n",
    "\\text{Precision} = \\frac{\\text{True Positives}}{\\text{True Positives} + \\text{False Positives}}\n",
    "$$\n",
    "\n",
    "\n",
    "$$\n",
    "\\text{F-score} = \\frac{2 \\cdot \\text{True Positives}}{2\\cdot \\text{True Positives} + \\text{False Positives} + \\text{False negatives}}\n",
    "$$\n",
    "\n",
    "Presenting these for the above model:"
   ]
  },
  {
   "cell_type": "code",
   "execution_count": 39,
   "metadata": {},
   "outputs": [
    {
     "name": "stdout",
     "output_type": "stream",
     "text": [
      "In/out           Specificity    Accuracy    Precision    Recall    F-Score\n",
      "-------------  -------------  ----------  -----------  --------  ---------\n",
      "In sample             0.7275    0.711111     0.976909  0.728477   0.834598\n",
      "Out of sample         0.72      0.818182     0.985401  0.714286   0.828221\n"
     ]
    }
   ],
   "source": [
    "# Present data\n",
    "acc_in = [\"In sample\"] + acc_in\n",
    "acc_out = [\"Out of sample\"] + acc_out\n",
    "table = [acc_in, acc_out]\n",
    "headers=[\"In/out\", \"Specificity\", \"Accuracy\", \"Precision\", \"Recall\", \"F-Score\"]\n",
    "print(tabulate(table, headers))"
   ]
  },
  {
   "cell_type": "markdown",
   "metadata": {},
   "source": [
    "Observing the above table we see that out model performs well, especially its precision."
   ]
  },
  {
   "cell_type": "markdown",
   "metadata": {},
   "source": [
    "### Task 2.3.1\n",
    "\n",
    "Firstly to set my data types and ensure that i have an augmented matrix $X$."
   ]
  },
  {
   "cell_type": "code",
   "execution_count": 40,
   "metadata": {},
   "outputs": [],
   "source": [
    "# Import training and test data\n",
    "train_data = np.genfromtxt('classification_train.csv', delimiter=',')\n",
    "test_data = np.genfromtxt('classification_test.csv', delimiter=',')\n",
    "np.random.seed(190)\n",
    "X_train = train_data[:,:-1]# Transpose for use with logistic regression\n",
    "y_train = train_data[:,-1]\n",
    "X_test = test_data[:,:-1]# Transpose for use with logistic regression\n",
    "y_test = test_data[:,-1]\n",
    "\n",
    "\n",
    "\n",
    "\n",
    "\n",
    "\n",
    "\n",
    "#X_train = X_train.to_numpy()\n",
    "ones = np.ones(X_train.shape[0])\n",
    "X_train = np.hstack((X_train, ones[:, None]))\n",
    "X_train[:, :-1] = standardise(X_train[:, :-1])\n",
    "#y_train = y_train.to_numpy()\n",
    "y_train[y_train == 0] = -1\n",
    "y_train = y_train.astype(float)\n",
    "\n",
    "#X_test = X_test.to_numpy()\n",
    "ones = np.ones(X_test.shape[0])\n",
    "X_test = np.hstack((X_test, ones[:, None]))\n",
    "X_test[:, :-1] = standardise(X_test[:, :-1])\n",
    "#y_test = y_test.to_numpy()\n",
    "y_test[y_test == 0] = -1\n",
    "y_test = y_test.astype(float)"
   ]
  },
  {
   "cell_type": "markdown",
   "metadata": {},
   "source": [
    "Let us define the function `rbf()` below which is the Gaussian radial basis function:\n",
    "$$\n",
    "k(x,y) = e^{- \\frac{\\lVert x- y \\rVert ^2}{\\sigma}}\n",
    "$$\n",
    "    "
   ]
  },
  {
   "cell_type": "code",
   "execution_count": 41,
   "metadata": {},
   "outputs": [],
   "source": [
    "def rbf(x, w, sigma=10**8):\n",
    "    '''\n",
    "    Radial Basis Kernel function\n",
    "\n",
    "    Parameters\n",
    "    ----------\n",
    "    x : (N,)\n",
    "        Vector input.\n",
    "    w : (N,)\n",
    "        Vector input.\n",
    "    sigma : variance paramter, optional\n",
    "            The default is 10**8.\n",
    "\n",
    "    Returns\n",
    "    -------\n",
    "    ans : (N,)\n",
    "        Output of Radial basis function.\n",
    "\n",
    "    '''\n",
    "    ans = np.exp(-(np.linalg.norm(x-w)**2) / sigma)\n",
    "    return ans"
   ]
  },
  {
   "cell_type": "markdown",
   "metadata": {},
   "source": [
    "This has been implimented into the functions from the coding task to replace the dot product. Note though in my implimentation of the RBF, I consider the non-augmented data matrix, that is without ones, and therefore consider an additional parameter $b$, to represent the intercept. When calculating the gradient, which is used in gradient descent we now need to calculate the gradient of:\n",
    "\n",
    "$$\n",
    "\\mathcal L (\\boldsymbol w) = \\frac{1}{2} \\| \\boldsymbol w \\|^2 + \\frac{\\lambda}{n} \\sum_{i=1}^n \\max \\bigg( 0, 1-y_i (k(\\boldsymbol w, x_i) + b) \\bigg) \\, .\n",
    "$$\n",
    "\n",
    "This is :\n",
    "\n",
    "$$\n",
    " \\frac{\\partial \\mathcal L}{\\partial \\boldsymbol w} = \\boldsymbol w + \\frac{2 \\lambda (x_i - \\boldsymbol w )y_i}{n \\sigma}  k(\\boldsymbol w, x)\n",
    "$$\n",
    "\n",
    "We then move in this direction at a rate of the given learning rate, that is: updating the weights according to\n",
    "$\n",
    "\\boldsymbol w = \\boldsymbol w - \\alpha \\frac{\\partial \\mathcal L}{\\partial \\boldsymbol w}\n",
    "$.\n",
    "\n",
    "This is all implimented by amending the code provided in the notebook. It is done such that the linear SVM still works the same if the argument `KBF`, which has been added, is false."
   ]
  },
  {
   "cell_type": "code",
   "execution_count": 42,
   "metadata": {},
   "outputs": [],
   "source": [
    "def compute_cost(W, X, y, sigma, b, regul_strength=1e5, RBF=False):\n",
    "  n = X.shape[0]\n",
    "  if RBF:\n",
    "      distances = 1 - y * (rbf(X, W, sigma)+b) ####\n",
    "  else:\n",
    "      distances = 1 - y * (np.dot(X, W))\n",
    "  distances[distances < 0] = 0  # equivalent to max(0, distance)\n",
    "  hinge = regul_strength * (np.sum(distances) / n)  \n",
    "\n",
    "  # calculate cost\n",
    "  cost = 1 / 2 * np.dot(W, W) + hinge\n",
    "  return cost\n",
    "\n",
    "\n",
    "# calculate gradient of cost\n",
    "def calculate_cost_gradient(W, X_batch, y_batch, sigma, b, regul_strength=1e5, RBF=False):\n",
    "  # if only one example is passed\n",
    "  if type(y_batch) == np.float64:\n",
    "      y_batch = np.asarray([y_batch])\n",
    "      X_batch = np.asarray([X_batch])  # gives multidimensional array\n",
    "  if RBF:\n",
    "      distance = 1 - (y_batch * rbf(X_batch, W, sigma) + b)\n",
    "  else:\n",
    "      distance = 1 - (y_batch * np.dot(X_batch, W))\n",
    "  dw = np.zeros(len(W))\n",
    "\n",
    "  for ind, d in enumerate(distance):\n",
    "      if max(0, d)==0:\n",
    "          di = W\n",
    "      else:\n",
    "          if RBF:\n",
    "              di = W - ((2*regul_strength*y_batch[ind]*(X_batch[ind]-W)*rbf(X_batch[ind], W, sigma))/sigma)\n",
    "          else:\n",
    "              di = W - (regul_strength * y_batch[ind] * X_batch[ind])\n",
    "      dw += di\n",
    "\n",
    "  dw = dw/len(y_batch)  # average\n",
    "  return dw\n",
    "\n",
    "\n",
    "\n",
    "def sgd(X, y, sigma, b, max_iterations=2000, stop_criterion=0.01, learning_rate=1e-5, regul_strength=1e5, print_outcome=False, RBF=False):\n",
    "  # initialise zero weights\n",
    "  weights = np.zeros(X.shape[1])\n",
    "  nth = 0\n",
    "  # initialise starting cost as infinity\n",
    "  prev_cost = np.inf\n",
    "  \n",
    "  # stochastic gradient descent\n",
    "  for iteration in range(1, max_iterations):\n",
    "      # shuffle to prevent repeating update cycles\n",
    "      np.random.shuffle([X, y])\n",
    "      for ind, x in enumerate(X):\n",
    "          ascent = calculate_cost_gradient(weights, x, y[ind], sigma, b, regul_strength, RBF) \n",
    "          weights = weights - (learning_rate * ascent)\n",
    "\n",
    "      # convergence check on 2^n'th iteration\n",
    "      if iteration==2**nth or iteration==max_iterations-1:\n",
    "          # compute cost\n",
    "          cost = compute_cost(weights, X, y, sigma, b, regul_strength, RBF)\n",
    "          if print_outcome:\n",
    "            print(\"Iteration is: {}, Cost is: {}\".format(iteration, cost))\n",
    "          # stop criterion\n",
    "          if abs(prev_cost - cost) < stop_criterion * prev_cost:\n",
    "              return weights\n",
    "          \n",
    "          prev_cost = cost\n",
    "          nth += 1\n",
    "  \n",
    "  return weights\n",
    "\n",
    "def score(W, X, y, sigma, b=-0.0001, RBF=False):\n",
    "  y_preds = np.array([])\n",
    "  for i in range(X.shape[0]):\n",
    "    if RBF:\n",
    "        sgn = rbf(X[i], W, sigma) + b\n",
    "    else:\n",
    "        sgn = np.dot(X[i], W)\n",
    "    y_pred = np.sign(sgn)\n",
    "    y_preds = np.append(y_preds, y_pred)\n",
    "  #print(y_preds)\n",
    "  return np.float(sum(y_preds==y)) / float(len(y)) "
   ]
  },
  {
   "cell_type": "markdown",
   "metadata": {},
   "source": [
    "Throughout this task we are mainly considering the F-score of our predictions and hence i define a function to calcualte this, recalling that a '0' result is now represented as a -1 in our outputs. This is done in the function `F1()`"
   ]
  },
  {
   "cell_type": "code",
   "execution_count": 43,
   "metadata": {},
   "outputs": [],
   "source": [
    "def pred(W, X, sigma, b=-0.0001, RBF=False):\n",
    "  y_preds = np.array([])\n",
    "  for i in range(X.shape[0]):\n",
    "    if RBF:\n",
    "        sgn = rbf(X[i], W, sigma) + b\n",
    "    else:\n",
    "        sgn = np.dot(X[i], W)\n",
    "    y_pred = np.sign(sgn) \n",
    "    y_preds = np.append(y_preds, y_pred)\n",
    "  return y_preds\n",
    "\n",
    "#y_pred = pred(W, X_train, sigma=10**10, b=-0.0001, RBF=False)\n",
    "\n",
    "\n",
    "\n",
    "def F1(y_actu, y_pred):\n",
    "    '''\n",
    "    Computes the F1 score.\n",
    "\n",
    "    Parameters\n",
    "    ----------\n",
    "    y_actu : (N,)\n",
    "        Actual Outputs.\n",
    "    y_pred : (N,)\n",
    "        preducted outputs.\n",
    "\n",
    "\n",
    "    Returns\n",
    "    -------\n",
    "    F1 : float\n",
    "        F1 score.\n",
    "\n",
    "    '''\n",
    "    y_actu, y_pred = list(y_actu), list(y_pred)\n",
    "    FP = 0\n",
    "    TN = 0\n",
    "    TP = 0\n",
    "    FN = 0\n",
    "    l = len(y_actu)\n",
    "    for i in range(l):\n",
    "        if y_actu[i] == -1:\n",
    "            if y_pred[i] == 1:\n",
    "                FP += 1\n",
    "            else:\n",
    "                TN += 1\n",
    "        if y_actu[i] == 1:\n",
    "            if y_pred[i] == 1:\n",
    "                TP += 1\n",
    "            else:\n",
    "                FN += 1\n",
    "    F1 = 2 * TP / (2*TP +FP+FN)\n",
    "    return F1\n",
    "\n",
    "def score2(W, X, y, sigma, b=-0.0001, RBF=False):\n",
    "    y_pred = pred(W, X, sigma, b, RBF)\n",
    "    f1 = F1(y, y_pred)\n",
    "    return f1"
   ]
  },
  {
   "cell_type": "markdown",
   "metadata": {},
   "source": [
    "To give a hard margin for the linear SVM we consider what would happen if we allow the penality, that is the regularisation strength, to tend to infinity. We can see that this would essentially cause the soft margin SVM to become hard margined. This is what I do here, I pick a regualation parameter that is large, I have picked $10^{6}$. Below I have implimented this:"
   ]
  },
  {
   "cell_type": "code",
   "execution_count": 44,
   "metadata": {},
   "outputs": [
    {
     "name": "stdout",
     "output_type": "stream",
     "text": [
      "Iteration is: 1, Cost is: 2221958081.939037\n",
      "Iteration is: 2, Cost is: 1828460560.913441\n",
      "Iteration is: 4, Cost is: 1861256362.6931775\n",
      "Iteration is: 8, Cost is: 1889119639.4770477\n",
      "Iteration is: 16, Cost is: 2101093820.773332\n",
      "Iteration is: 32, Cost is: 1988457335.4365926\n",
      "Iteration is: 64, Cost is: 2192640357.3838296\n",
      "Iteration is: 128, Cost is: 1929353519.6920037\n",
      "Iteration is: 256, Cost is: 1730673784.1421652\n",
      "Iteration is: 512, Cost is: 2301287944.992327\n",
      "Iteration is: 1024, Cost is: 2025020351.1454577\n",
      "Iteration is: 1999, Cost is: 1739332058.0386016\n",
      "(Linear) Accuracy on train set: 0.685\n",
      "(Linear) Accuracy on test set: 0.72\n",
      "(Linear) F-score on train set: 0.78125\n",
      "(Linear) F-score on test set: 0.7985611510791367\n"
     ]
    }
   ],
   "source": [
    "W = sgd(X_train, y_train,sigma=None, b=None, max_iterations=2000, stop_criterion=0.01, learning_rate=1e-3, regul_strength=1e6, print_outcome=True, RBF=False)\n",
    "print(\"(Linear) Accuracy on train set: {}\".format(score(W, X_train, y_train, sigma=None,b=None, RBF=False)))\n",
    "print(\"(Linear) Accuracy on test set: {}\".format(score(W, X_test, y_test, sigma=None, b=None, RBF=False)))\n",
    "\n",
    "linear = [score2(W, X_train, y_train, sigma=None, b=None, RBF=False), score2(W, X_test, y_test, sigma=None, b=None, RBF=False) ]\n",
    "print(\"(Linear) F-score on train set: {}\".format(linear[0]))\n",
    "print(\"(Linear) F-score on test set: {}\".format(linear[1]))\n"
   ]
  },
  {
   "cell_type": "markdown",
   "metadata": {},
   "source": [
    "We can see that, since the cost is being printed and doesnt seem to decrease across the iterations (it only fluctuates up and down a little), the function is strugling to minimise this, this is due to the large regulation strength forcing the hard margin.\n",
    "\n",
    "I now apply the same philosophy to the system with the RBF to force it to to be a hard margin.\n",
    "\n",
    "Below I intiaily vary $\\sigma \\in [1, 300]$ while keeping $b = -10^{-5}$ to get a rough idea of what happens."
   ]
  },
  {
   "cell_type": "code",
   "execution_count": 45,
   "metadata": {},
   "outputs": [
    {
     "data": {
      "image/png": "[encoded data removed]",
      "text/plain": [
       "<Figure size 432x288 with 1 Axes>"
      ]
     },
     "metadata": {
      "needs_background": "light"
     },
     "output_type": "display_data"
    },
    {
     "name": "stdout",
     "output_type": "stream",
     "text": [
      "Optimal sigma for b = -0.00001 is: 52.343434343434346\n",
      "Out of sample F-score: 0.8181818181818182\n",
      "In sample F-score: 0.8265078183172003\n"
     ]
    }
   ],
   "source": [
    "sigmas = np.linspace(1, 300, 100)\n",
    "train =[]\n",
    "test =[]\n",
    "count=0\n",
    "b=-10**-5\n",
    "for sigma in sigmas:\n",
    "    W = sgd(X_train[:, :-1], y_train, sigma=sigma,b=b, max_iterations=1000, stop_criterion=0.01, learning_rate=1e-3, regul_strength=1e6, print_outcome=False, RBF=True)\n",
    "    train += [score2(W, X_train[:, :-1], y_train, sigma, b=b, RBF=True)]\n",
    "    test += [score2(W, X_test[:, :-1], y_test, sigma, b=b, RBF=True)]\n",
    "    \n",
    "plt.plot(sigmas, train)\n",
    "plt.plot(sigmas, test)\n",
    "plt.title(r\"Accuracy of test and train set while varying $\\sigma$\")\n",
    "plt.xlabel(r\"$\\sigma$\")\n",
    "plt.ylabel(\"Accuracy %\")\n",
    "plt.show()\n",
    "\n",
    "\n",
    "index = np.argmax(test)\n",
    "print('Optimal sigma for b = -0.00001 is:', sigmas[index])\n",
    "print('Out of sample F-score:', test[index])\n",
    "print('In sample F-score:', train[index])"
   ]
  },
  {
   "cell_type": "markdown",
   "metadata": {},
   "source": [
    "As we can see from the plot there are multiple maximums across this range of $\\sigma$, and also these maximums seem to require a very finely tuned $\\sigma$, that is the maximums do not last long while varing $\\sigma$. I present the In and out of sample F-scores below:"
   ]
  },
  {
   "cell_type": "code",
   "execution_count": 46,
   "metadata": {},
   "outputs": [
    {
     "name": "stdout",
     "output_type": "stream",
     "text": [
      "Method        In sample F-score    Out of sample F-score\n",
      "----------  -------------------  -----------------------\n",
      "Linear SVM             0.78125                  0.798561\n",
      "RBF SVM                0.826508                 0.818182\n"
     ]
    }
   ],
   "source": [
    "# Present data\n",
    "table = [[\"Linear SVM\", linear[0], linear[1]], [\"RBF SVM\", train[index], test[index]]]\n",
    "headers=[\"Method\", \"In sample F-score\", \"Out of sample F-score\"]\n",
    "print(tabulate(table, headers))"
   ]
  },
  {
   "cell_type": "markdown",
   "metadata": {},
   "source": [
    "As we see the RBF SVM provides a higher F-score than the the linear SVM, this perhaps implies that it is not possible to represent this data as a hard margined liear SVM modeled."
   ]
  },
  {
   "cell_type": "markdown",
   "metadata": {},
   "source": [
    "I perform a 5 fold cross validation grid search on the $\\sigma$'s and the $b$'s. "
   ]
  },
  {
   "cell_type": "code",
   "execution_count": 47,
   "metadata": {},
   "outputs": [
    {
     "name": "stdout",
     "output_type": "stream",
     "text": [
      "Computing fold 1\n",
      "Computing fold 2\n",
      "Computing fold 3\n",
      "Computing fold 4\n",
      "Computing fold 5\n",
      "  Val Fold #    Sigma hat     b hat    Val set F-score    In sample F-score    Out sample F-score\n",
      "------------  -----------  --------  -----------------  -------------------  --------------------\n",
      "           1         58.4  -5e-08             0.831461             0                     0\n",
      "           2         89.6  -2.9e-06           0.856115             0.826471              0.813056\n",
      "           3         66.8  -8.6e-06           0.856061             0.779097              0.756579\n",
      "           4         62    -5e-08             0.796992             0                     0\n",
      "           5         59.6  -5e-08             0.833948             0                     0\n"
     ]
    }
   ],
   "source": [
    "# NB. This may take a couple minutes\n",
    "# Initialise hyperparameters\n",
    "nsigma = 50\n",
    "nb = 8\n",
    "n  = nsigma*nb\n",
    "sigmass = np.linspace(50, 110, nsigma+1)[1:]\n",
    "bs = -np.linspace(20*10**-6, 5*10**-8, nb)\n",
    "params = np.array(np.meshgrid(sigmass, bs)).T.reshape(-1,2)\n",
    "\n",
    "# Initialise  array to contain the MSE of the hyperparameters for each fold\n",
    "acc = np.empty((5,n))\n",
    "train_data[:,:-1] = standardise(train_data[:,:-1])\n",
    "folds = cross_val_split(train_data, 5)\n",
    "\n",
    "\n",
    "\n",
    "\n",
    "# 5 fold cross validation grid \n",
    "for index in range(5):\n",
    "    cv_X_train, cv_y_train, cv_X_val, cv_y_val = cross_val_train_test(folds, index)\n",
    "    cv_X_train, cv_X_val = cv_X_train, cv_X_val\n",
    "    print(\"Computing fold\", index+1)\n",
    "    for i in range(n):\n",
    "        sigma = params[i, 0]\n",
    "        b = params[i, 1]\n",
    "        W = sgd(cv_X_train, cv_y_train, sigma, b, max_iterations=2000, stop_criterion=0.01, learning_rate=1e-3, regul_strength=1e6, print_outcome=False, RBF=True)\n",
    "        val_score = score2(W, cv_X_val, cv_y_val, sigma, b, RBF=True)\n",
    "        acc[index, i] = val_score \n",
    "   \n",
    "# Index of the parameters which minimses the MSE of each fold  \n",
    "index = np.argmax(acc, axis =1) \n",
    "paramshat = params[index, :]\n",
    "val_acc = acc[np.arange(5), index]\n",
    "in_acc = np.empty(5)\n",
    "out_acc = np.empty(5)\n",
    "for i in range(5):\n",
    "    sigma = paramshat[i, 0]\n",
    "    b = paramshat[i, 1]\n",
    "    W = sgd(X_train[:, :-1], y_train, sigma, b, max_iterations=2000, stop_criterion=0.01, learning_rate=1e-3, regul_strength=1e6, print_outcome=False, RBF=True)\n",
    "    f1 = score2(W, X_test[:, :-1], y_test, sigma, b, RBF=True)\n",
    "    out_acc[i] = f1\n",
    "    f1 = score2(W, X_train[:, :-1], y_train, sigma, b, RBF=True)\n",
    "    in_acc[i] = f1\n",
    "\n",
    "\n",
    "\n",
    "\n",
    "# Present data\n",
    "table = np.column_stack((np.arange(1, 6), paramshat[:,0], paramshat[:,1], val_acc, in_acc, out_acc))\n",
    "headers=[\"Val Fold #\", \"Sigma hat\", \"b hat\", \"Val set F-score\", \"In sample F-score\", \"Out sample F-score\"]\n",
    "print(tabulate(table, headers))"
   ]
  },
  {
   "cell_type": "markdown",
   "metadata": {},
   "source": [
    "It is interesting to note that some paramters that perform highly against the validation set perform very poorly In and out of sample (having a F-score of of 0), this is likely due to the fact the  maximums are very sensitive on the data. To alleviate (as  have done with all other cross validations) this I find the paramters that minimise the average F-score. It should also be noted that this is not a rigorous grid search which should be done if computation time wasnt such an issue. I find the parameters that maximise the average F-score below: "
   ]
  },
  {
   "cell_type": "code",
   "execution_count": 48,
   "metadata": {},
   "outputs": [
    {
     "data": {
      "image/png": "[encoded data removed]",
      "text/plain": [
       "<Figure size 432x288 with 1 Axes>"
      ]
     },
     "metadata": {
      "needs_background": "light"
     },
     "output_type": "display_data"
    },
    {
     "name": "stdout",
     "output_type": "stream",
     "text": [
      "  Sigma hat     b hat    CV <F-score>    In sample F-score    Out sample F-score\n",
      "-----------  --------  --------------  -------------------  --------------------\n",
      "       66.8  -8.6e-06        0.828301             0.779097              0.756579\n"
     ]
    }
   ],
   "source": [
    " # Avg mse\n",
    "acc = np.mean(acc, axis=0)\n",
    "# Plot of hyperparameters against accuracy \n",
    "x = params[:,0]\n",
    "y = params[:,1]\n",
    "z = acc\n",
    "fig = plt.figure()\n",
    "ax = Axes3D(fig)\n",
    "surf = ax.plot_trisurf(x, y, z, cmap=cm.viridis)\n",
    "ax.set_xlabel(r\"$\\sigma$\")\n",
    "ax.set_ylabel(\"b\")\n",
    "ax.set_zlabel(\"F-score\")\n",
    "ax.set_title(\"<F-score> vs parameters\", fontsize=13)\n",
    "plt. show()\n",
    "\n",
    "# Find hyperparameters that maximise average accuracy \n",
    "index = np.argmax(acc) \n",
    "paramshat = params[index,:]\n",
    "\n",
    "sigma = paramshat[0]\n",
    "b = paramshat[1]\n",
    "W = sgd(X_train[:, :-1], y_train, sigma=sigma,b=b, max_iterations=1000, stop_criterion=0.01, learning_rate=1e-3, regul_strength=1e6, print_outcome=False, RBF=True)\n",
    "f1 = score2(W, X_test[:, :-1], y_test, sigma, b, RBF=True)\n",
    "out_acc = f1\n",
    "f1 = score2(W, X_train[:, :-1], y_train, sigma, b, RBF=True)\n",
    "in_acc = f1\n",
    "\n",
    "# Display as table\n",
    "table = np.array([paramshat[0], paramshat[1], acc[index], in_acc, out_acc])\n",
    "headers=[\"Sigma hat\", \"b hat\", \"CV <F-score>\", \"In sample F-score\", \"Out sample F-score\"]\n",
    "table = table[None, :]\n",
    "print(tabulate(table, headers))"
   ]
  },
  {
   "cell_type": "markdown",
   "metadata": {},
   "source": [
    "We can see, looking at the plot that various peaks are are found across the grid."
   ]
  },
  {
   "cell_type": "markdown",
   "metadata": {},
   "source": [
    "We can see that the optimal found by cross validation is infact worse off than the optimal we naively chose before, this is likely due to a poor choice of grid- as you can see it scans across several peaks. Idealy we would do a finer search, It is also worse off than the linear SVM, although perhaps it  would generalise better to new data since it has been found through cross validation.\n",
    "\n",
    "### Task 2.3.2\n",
    "\n",
    "I below define a function `ROC()` that returns the True positive rate and the False positive rate for use with ROC curves."
   ]
  },
  {
   "cell_type": "code",
   "execution_count": 49,
   "metadata": {},
   "outputs": [],
   "source": [
    "def ROC(y_actu, y_pred):\n",
    "    '''\n",
    "    Computes the F1 score.\n",
    "\n",
    "    Parameters\n",
    "    ----------\n",
    "    y_actu : (N,)\n",
    "        Actual Outputs.\n",
    "    y_pred : (N,)\n",
    "        preducted outputs.\n",
    "\n",
    "\n",
    "    Returns\n",
    "    -------\n",
    "    TPR : list\n",
    "        TPR.\n",
    "    FPR : list\n",
    "        FPR\n",
    "\n",
    "    '''\n",
    "    y_actu, y_pred = list(y_actu), list(y_pred)\n",
    "    FP = 0\n",
    "    TN = 0\n",
    "    TP = 0\n",
    "    FN = 0\n",
    "    l = len(y_actu)\n",
    "    for i in range(l):\n",
    "        if y_actu[i] == -1:\n",
    "            if y_pred[i] == 1:\n",
    "                FP += 1\n",
    "            else:\n",
    "                TN += 1\n",
    "        if y_actu[i] == 1:\n",
    "            if y_pred[i] == 1:\n",
    "                TP += 1\n",
    "            else:\n",
    "                FN += 1\n",
    "    TPR = TP / (TP + FN)\n",
    "    FPR = FP / (FP + TN)\n",
    "    return TPR, FPR"
   ]
  },
  {
   "cell_type": "markdown",
   "metadata": {},
   "source": [
    "I first perform this on a very fine range of $\\sigma$'s around the optimal we found previously through cross validation."
   ]
  },
  {
   "cell_type": "code",
   "execution_count": 50,
   "metadata": {},
   "outputs": [
    {
     "data": {
      "image/png": "[encoded data removed]",
      "text/plain": [
       "<Figure size 432x288 with 1 Axes>"
      ]
     },
     "metadata": {
      "needs_background": "light"
     },
     "output_type": "display_data"
    }
   ],
   "source": [
    "n=50\n",
    "sigmas = np.linspace(66.7917,66.79176,n)\n",
    "tprates = np.empty(n)\n",
    "fprates = np.empty(n)\n",
    "\n",
    "\n",
    "for i in range(n):\n",
    "    W = sgd(X_train[:,:-1], y_train, sigmas[i], b, 2000, 0.01, 1e-3, 1e6, print_outcome=False, RBF=True)\n",
    "    y_pred = pred(W, X_test[:,:-1], sigma, b=b, RBF=True)\n",
    "    TPR, FPR = ROC(y_test, y_pred)\n",
    "    tprates[i] = TPR\n",
    "    fprates[i] = FPR\n",
    "    \n",
    "\n",
    "x = np.linspace(0,1,100)\n",
    "plt.plot(fprates,tprates)\n",
    "plt.title(r\"Roc curve varing sigma With $\\sigma \\approx 66, b \\approx -8.6 \\times 10^{-6}$\")\n",
    "plt.xlabel(\"TPR\")\n",
    "plt.ylabel(\"FPR\")\n",
    "plt.plot(x,x)\n",
    "plt.show()"
   ]
  },
  {
   "cell_type": "markdown",
   "metadata": {},
   "source": [
    "As we can see this ROC curve provides negligble increase on simply chosing randomly. This is perhaps, as previously mentioned due to a coarse grid search and the fact that the maximums are sharp and appear to be very sensitive to parameters. I do another ROC curve for the naively chosen optimal paramters we did at the very start."
   ]
  },
  {
   "cell_type": "code",
   "execution_count": 51,
   "metadata": {},
   "outputs": [
    {
     "data": {
      "image/png": "[encoded data removed]",
      "text/plain": [
       "<Figure size 432x288 with 1 Axes>"
      ]
     },
     "metadata": {
      "needs_background": "light"
     },
     "output_type": "display_data"
    }
   ],
   "source": [
    "n=100\n",
    "b = -10**-5\n",
    "sigma = 50\n",
    "sigmas = np.linspace(sigma-10,sigma+3,n)\n",
    "tprates = np.empty(n)\n",
    "fprates = np.empty(n)\n",
    "\n",
    "\n",
    "for i in range(n):\n",
    "    W = sgd(X_train[:,:-1], y_train, sigmas[i], b, 2000, 0.01, 1e-3, 1e6, print_outcome=False, RBF=True)\n",
    "    y_pred = pred(W, X_test[:,:-1], sigma, b=b, RBF=True)\n",
    "    TPR, FPR = ROC(y_test, y_pred)\n",
    "    tprates[i] = TPR\n",
    "    fprates[i] = FPR\n",
    "    \n",
    "\n",
    "x = np.linspace(0,1,100)\n",
    "plt.plot(fprates,tprates)\n",
    "plt.title(r\"Roc varing sigma With $\\sigma \\approx 45, b \\approx -10^{-5}$\")\n",
    "plt.xlabel(\"TPR\")\n",
    "plt.ylabel(\"FPR\")\n",
    "plt.plot(x,x)\n",
    "plt.show()"
   ]
  },
  {
   "cell_type": "markdown",
   "metadata": {},
   "source": [
    "We can see here that we have a much better ROC curve than before, that is it is noticeably better than a random choice. And so perhaps models our data fairly well."
   ]
  }
 ],
 "metadata": {
  "colab": {
   "authorship_tag": "ABX9TyM9D6+tMyS91zQEFrqzg0mb",
   "collapsed_sections": [],
   "name": "Data exploration.ipynb",
   "provenance": []
  },
  "kernelspec": {
   "display_name": "Python 3",
   "language": "python",
   "name": "python3"
  },
  "language_info": {
   "codemirror_mode": {
    "name": "ipython",
    "version": 3
   },
   "file_extension": ".py",
   "mimetype": "text/x-python",
   "name": "python",
   "nbconvert_exporter": "python",
   "pygments_lexer": "ipython3",
   "version": "3.8.5"
  }
 },
 "nbformat": 4,
 "nbformat_minor": 4
}
